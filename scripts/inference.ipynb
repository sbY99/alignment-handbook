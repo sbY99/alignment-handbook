{
 "cells": [
  {
   "cell_type": "code",
   "execution_count": 1,
   "metadata": {},
   "outputs": [],
   "source": [
    "import numpy as np\n",
    "import pandas as pd"
   ]
  },
  {
   "cell_type": "markdown",
   "metadata": {},
   "source": [
    "# base model"
   ]
  },
  {
   "cell_type": "code",
   "execution_count": null,
   "metadata": {},
   "outputs": [],
   "source": [
    "from peft import PeftConfig, PeftModel\n",
    "from transformers import AutoModelForCausalLM, AutoTokenizer\n",
    "\n",
    "device = \"cuda\"\n",
    "\n",
    "base_model_name = \"GAI-LLM/Yi-Ko-6B-mixed-v15\"\n",
    "\n",
    "model = AutoModelForCausalLM.from_pretrained(base_model_name, device_map=\"auto\")\n",
    "tokenizer = AutoTokenizer.from_pretrained(base_model_name)"
   ]
  },
  {
   "cell_type": "code",
   "execution_count": 9,
   "metadata": {},
   "outputs": [
    {
     "name": "stdout",
     "output_type": "stream",
     "text": [
      "<|startoftext|> 안녕..............................................................................................................................................................................................................................................................................................................................................................................................................................................................................................................................\n"
     ]
    }
   ],
   "source": [
    "inputs = tokenizer.encode(f\"안녕.\", return_tensors=\"pt\").to(device)\n",
    "outputs = model.generate(input_ids=inputs, \n",
    "                         max_length=512)\n",
    "print(tokenizer.decode(outputs[0]))"
   ]
  },
  {
   "cell_type": "markdown",
   "metadata": {},
   "source": [
    "# fine-tuned model"
   ]
  },
  {
   "cell_type": "code",
   "execution_count": 2,
   "metadata": {},
   "outputs": [
    {
     "name": "stderr",
     "output_type": "stream",
     "text": [
      "/home/seungbinyang/anaconda3/envs/llm/lib/python3.10/site-packages/tqdm/auto.py:21: TqdmWarning: IProgress not found. Please update jupyter and ipywidgets. See https://ipywidgets.readthedocs.io/en/stable/user_install.html\n",
      "  from .autonotebook import tqdm as notebook_tqdm\n",
      "/home/seungbinyang/anaconda3/envs/llm/lib/python3.10/site-packages/transformers/utils/generic.py:441: UserWarning: torch.utils._pytree._register_pytree_node is deprecated. Please use torch.utils._pytree.register_pytree_node instead.\n",
      "  _torch_pytree._register_pytree_node(\n",
      "/home/seungbinyang/anaconda3/envs/llm/lib/python3.10/site-packages/transformers/utils/generic.py:309: UserWarning: torch.utils._pytree._register_pytree_node is deprecated. Please use torch.utils._pytree.register_pytree_node instead.\n",
      "  _torch_pytree._register_pytree_node(\n",
      "Loading checkpoint shards: 100%|██████████| 2/2 [00:13<00:00,  6.74s/it]\n",
      "Special tokens have been added in the vocabulary, make sure the associated word embeddings are fine-tuned or trained.\n"
     ]
    }
   ],
   "source": [
    "from peft import PeftConfig, PeftModel\n",
    "from transformers import AutoModelForCausalLM, AutoTokenizer\n",
    "\n",
    "device = \"cuda\"\n",
    "\n",
    "base_model_name = \"GAI-LLM/Yi-Ko-6B-mixed-v15\"\n",
    "adapter_model_name = \"../model/GAI-LLM-Yi-Ko-6B-mixed-v15-sft-qlora-dpo-v1\"\n",
    "\n",
    "model = AutoModelForCausalLM.from_pretrained(base_model_name, device_map=\"auto\")\n",
    "model = PeftModel.from_pretrained(model, adapter_model_name)\n",
    "\n",
    "tokenizer = AutoTokenizer.from_pretrained(base_model_name)"
   ]
  },
  {
   "cell_type": "code",
   "execution_count": 3,
   "metadata": {},
   "outputs": [
    {
     "name": "stdout",
     "output_type": "stream",
     "text": [
      " <|user|>방청 페인트의 종류에는 어떤 것들이 있는지 알고 계신가요? 또한, 원목사이딩을 사용하는 것에 어떤 단점이 있을까요? <|assistant|>I'm sorry, sir, but I'm afraid you'll have to wait.죄송합니다, 선생님, 기다리셔야 할 것 같습니다.<|assistant|>I'm sorry, sir, but I'm afraid you'll have to wait.죄송합니다, 선생님, 기다리셔야 할 것 같습니다.<|assistant|>I'm sorry, sir, but I'm afraid you'll have to wait.죄송합니다, 선생님, 기다리셔야 할 것 같습니다.<|assistant|>I'm sorry, sir, but I'm afraid you'll have to wait.죄송합니다, 선생님, 기다리셔야 할 것 같습니다.<|assistant|>I'm sorry, sir, but I'm afraid you'll have to wait.죄송합니다, 선생님, 기다리셔야 할 것 같습니다.<|assistant|>I'm sorry, sir, but I'm afraid you'll have to wait.죄송합니다, 선생님, 기다리셔야 할 것 같습니다.<|assistant|>I'm sorry, sir, but I'm afraid you'll have to wait.죄송합니다, 선생님, 기다리셔야 할 것 같습니다.<|assistant|>I'm sorry, sir, but I'm afraid you'll have to wait.죄송합니다, 선생님, 기다리셔야 할 것 같습니다.<|assistant|>I'm sorry, sir, but I'm afraid you'll have to wait.죄송합니다, 선생님, 기다리셔야 할 것 같습니다.<|assistant|>I'm sorry, sir, but I'm afraid you'll have to wait.죄송합니다, 선생님, 기다리셔야 할 것 같습니다.<|assistant|>I'm sorry, sir, but I'm afraid you'll have to wait.죄송합니다, 선생님, 기다리셔야 할 것 같습니다.<|assistant|>I'm sorry, sir, but I'm afraid you'll have to wait.죄송합니다, 선생님, 기다리셔야 할 것 같습니다.<|assistant|>I'm sorry, sir, but I'm afraid you'll have\n"
     ]
    }
   ],
   "source": [
    "inputs = tokenizer.encode(f\"<|user|>방청 페인트의 종류에는 어떤 것들이 있는지 알고 계신가요? 또한, 원목사이딩을 사용하는 것에 어떤 단점이 있을까요?{tokenizer.eos_token}<|assistant|>\", return_tensors=\"pt\").to(device)\n",
    "outputs = model.generate(input_ids=inputs, \n",
    "                         max_length=512, \n",
    "                         num_beams=5)\n",
    "\n",
    "print(tokenizer.decode(outputs[0], skip_special_tokens=True))"
   ]
  },
  {
   "cell_type": "markdown",
   "metadata": {},
   "source": [
    "# inference"
   ]
  },
  {
   "cell_type": "code",
   "execution_count": 10,
   "metadata": {},
   "outputs": [],
   "source": [
    "def extract_text(input_string):\n",
    "    index_t = input_string.find('<|assistant|>')\n",
    "    if index_t != -1:  \n",
    "        result = input_string[index_t + len('<|assistant|>'):]\n",
    "    else: \n",
    "        raise Exception\n",
    "    return result"
   ]
  },
  {
   "cell_type": "code",
   "execution_count": 8,
   "metadata": {},
   "outputs": [
    {
     "data": {
      "text/html": [
       "<div>\n",
       "<style scoped>\n",
       "    .dataframe tbody tr th:only-of-type {\n",
       "        vertical-align: middle;\n",
       "    }\n",
       "\n",
       "    .dataframe tbody tr th {\n",
       "        vertical-align: top;\n",
       "    }\n",
       "\n",
       "    .dataframe thead th {\n",
       "        text-align: right;\n",
       "    }\n",
       "</style>\n",
       "<table border=\"1\" class=\"dataframe\">\n",
       "  <thead>\n",
       "    <tr style=\"text-align: right;\">\n",
       "      <th></th>\n",
       "      <th>id</th>\n",
       "      <th>질문</th>\n",
       "    </tr>\n",
       "  </thead>\n",
       "  <tbody>\n",
       "    <tr>\n",
       "      <th>0</th>\n",
       "      <td>TEST_000</td>\n",
       "      <td>방청 페인트의 종류에는 어떤 것들이 있는지 알고 계신가요? 또한, 원목사이딩을 사용...</td>\n",
       "    </tr>\n",
       "    <tr>\n",
       "      <th>1</th>\n",
       "      <td>TEST_001</td>\n",
       "      <td>도배지에 녹은 자국이 발생하는 주된 원인과 그 해결 방법은 무엇인가요?</td>\n",
       "    </tr>\n",
       "    <tr>\n",
       "      <th>2</th>\n",
       "      <td>TEST_002</td>\n",
       "      <td>큐블럭의 단점을 알려주세요. 또한, 압출법 단열판을 사용하는 것의 장점은 무엇인가요?</td>\n",
       "    </tr>\n",
       "  </tbody>\n",
       "</table>\n",
       "</div>"
      ],
      "text/plain": [
       "         id                                                 질문\n",
       "0  TEST_000  방청 페인트의 종류에는 어떤 것들이 있는지 알고 계신가요? 또한, 원목사이딩을 사용...\n",
       "1  TEST_001            도배지에 녹은 자국이 발생하는 주된 원인과 그 해결 방법은 무엇인가요?\n",
       "2  TEST_002    큐블럭의 단점을 알려주세요. 또한, 압출법 단열판을 사용하는 것의 장점은 무엇인가요?"
      ]
     },
     "execution_count": 8,
     "metadata": {},
     "output_type": "execute_result"
    }
   ],
   "source": [
    "test = pd.read_csv('../data/test_raw.csv')\n",
    "test.head(3)"
   ]
  },
  {
   "cell_type": "code",
   "execution_count": 11,
   "metadata": {},
   "outputs": [],
   "source": [
    "import tqdm\n",
    "\n",
    "generated_sent = []\n",
    "\n",
    "for i in tqdm(range(len(test))):\n",
    "    q = test.iloc[i]['질문']\n",
    "    prompt = f'<|user|>{q}{tokenizer.eos_token}<|assistant|>'\n",
    "\n",
    "    inputs = tokenizer.encode(prompt, return_tensors=\"pt\").to(device)\n",
    "    outputs = model.generate(input_ids=inputs, max_length=512)\n",
    "    response = tokenizer.decode(outputs[0], skip_special_tokens=True)\n",
    "    response = extract_text(response)\n",
    "\n",
    "    generated_sent.append(response)"
   ]
  },
  {
   "cell_type": "markdown",
   "metadata": {},
   "source": [
    "# submission"
   ]
  },
  {
   "cell_type": "code",
   "execution_count": 14,
   "metadata": {},
   "outputs": [
    {
     "name": "stderr",
     "output_type": "stream",
     "text": [
      "modules.json: 100%|██████████| 341/341 [00:00<00:00, 1.07MB/s]\n",
      "config_sentence_transformers.json: 100%|██████████| 122/122 [00:00<00:00, 523kB/s]\n",
      "README.md: 100%|██████████| 2.45k/2.45k [00:00<00:00, 10.2MB/s]\n",
      "sentence_bert_config.json: 100%|██████████| 53.0/53.0 [00:00<00:00, 234kB/s]\n",
      "config.json: 100%|██████████| 556/556 [00:00<00:00, 2.28MB/s]\n",
      "pytorch_model.bin: 100%|██████████| 539M/539M [00:10<00:00, 50.8MB/s] \n",
      "tokenizer_config.json: 100%|██████████| 452/452 [00:00<00:00, 1.64MB/s]\n",
      "vocab.txt: 100%|██████████| 996k/996k [00:00<00:00, 1.78MB/s]\n",
      "tokenizer.json: 100%|██████████| 1.96M/1.96M [00:00<00:00, 2.10MB/s]\n",
      "special_tokens_map.json: 100%|██████████| 112/112 [00:00<00:00, 481kB/s]\n",
      "1_Pooling/config.json: 100%|██████████| 190/190 [00:00<00:00, 546kB/s]\n",
      "2_Dense/config.json: 100%|██████████| 114/114 [00:00<00:00, 405kB/s]\n",
      "pytorch_model.bin: 100%|██████████| 1.58M/1.58M [00:01<00:00, 1.40MB/s]\n"
     ]
    }
   ],
   "source": [
    "import numpy as np\n",
    "import pandas as pd\n",
    "from sentence_transformers import SentenceTransformer # SentenceTransformer Version 2.2.2\n",
    "\n",
    "# Embedding Vector 추출에 활용할 모델(distiluse-base-multilingual-cased-v1) 불러오기\n",
    "m = SentenceTransformer('distiluse-base-multilingual-cased-v1')\n",
    "\n",
    "sub=pd.read_csv('../data/sample_submission.csv')"
   ]
  },
  {
   "cell_type": "code",
   "execution_count": 15,
   "metadata": {},
   "outputs": [],
   "source": [
    "encode_list=[]\n",
    "for i in range(len(generated_sent)):\n",
    "  embed=m.encode(generated_sent[i]) #주어진 모델로 인코딩\n",
    "  encode_list.append(embed)"
   ]
  },
  {
   "cell_type": "code",
   "execution_count": null,
   "metadata": {},
   "outputs": [],
   "source": [
    "for i in range(len(encode_list)):\n",
    "  sub.loc[i, 'vec_0':'vec_511']=encode_list[i] #제출 파일에 끼워넣기"
   ]
  },
  {
   "cell_type": "code",
   "execution_count": 17,
   "metadata": {},
   "outputs": [
    {
     "data": {
      "text/html": [
       "<div>\n",
       "<style scoped>\n",
       "    .dataframe tbody tr th:only-of-type {\n",
       "        vertical-align: middle;\n",
       "    }\n",
       "\n",
       "    .dataframe tbody tr th {\n",
       "        vertical-align: top;\n",
       "    }\n",
       "\n",
       "    .dataframe thead th {\n",
       "        text-align: right;\n",
       "    }\n",
       "</style>\n",
       "<table border=\"1\" class=\"dataframe\">\n",
       "  <thead>\n",
       "    <tr style=\"text-align: right;\">\n",
       "      <th></th>\n",
       "      <th>id</th>\n",
       "      <th>vec_0</th>\n",
       "      <th>vec_1</th>\n",
       "      <th>vec_2</th>\n",
       "      <th>vec_3</th>\n",
       "      <th>vec_4</th>\n",
       "      <th>vec_5</th>\n",
       "      <th>vec_6</th>\n",
       "      <th>vec_7</th>\n",
       "      <th>vec_8</th>\n",
       "      <th>...</th>\n",
       "      <th>vec_502</th>\n",
       "      <th>vec_503</th>\n",
       "      <th>vec_504</th>\n",
       "      <th>vec_505</th>\n",
       "      <th>vec_506</th>\n",
       "      <th>vec_507</th>\n",
       "      <th>vec_508</th>\n",
       "      <th>vec_509</th>\n",
       "      <th>vec_510</th>\n",
       "      <th>vec_511</th>\n",
       "    </tr>\n",
       "  </thead>\n",
       "  <tbody>\n",
       "    <tr>\n",
       "      <th>0</th>\n",
       "      <td>TEST_000</td>\n",
       "      <td>0.044647</td>\n",
       "      <td>0.044686</td>\n",
       "      <td>0.019709</td>\n",
       "      <td>0.003137</td>\n",
       "      <td>0.059527</td>\n",
       "      <td>0.014705</td>\n",
       "      <td>-0.013557</td>\n",
       "      <td>0.025025</td>\n",
       "      <td>0.026930</td>\n",
       "      <td>...</td>\n",
       "      <td>0.018252</td>\n",
       "      <td>-0.041767</td>\n",
       "      <td>-0.011106</td>\n",
       "      <td>-0.032668</td>\n",
       "      <td>-0.028045</td>\n",
       "      <td>0.010286</td>\n",
       "      <td>0.053333</td>\n",
       "      <td>0.019077</td>\n",
       "      <td>0.004254</td>\n",
       "      <td>0.030388</td>\n",
       "    </tr>\n",
       "    <tr>\n",
       "      <th>1</th>\n",
       "      <td>TEST_001</td>\n",
       "      <td>0.001539</td>\n",
       "      <td>-0.014106</td>\n",
       "      <td>0.006531</td>\n",
       "      <td>0.013342</td>\n",
       "      <td>0.069398</td>\n",
       "      <td>-0.013717</td>\n",
       "      <td>-0.008829</td>\n",
       "      <td>-0.023080</td>\n",
       "      <td>-0.008041</td>\n",
       "      <td>...</td>\n",
       "      <td>-0.025134</td>\n",
       "      <td>-0.016303</td>\n",
       "      <td>0.043635</td>\n",
       "      <td>-0.045904</td>\n",
       "      <td>-0.025309</td>\n",
       "      <td>0.035036</td>\n",
       "      <td>-0.005466</td>\n",
       "      <td>-0.009464</td>\n",
       "      <td>0.036712</td>\n",
       "      <td>-0.004162</td>\n",
       "    </tr>\n",
       "  </tbody>\n",
       "</table>\n",
       "<p>2 rows × 513 columns</p>\n",
       "</div>"
      ],
      "text/plain": [
       "         id     vec_0     vec_1     vec_2     vec_3     vec_4     vec_5  \\\n",
       "0  TEST_000  0.044647  0.044686  0.019709  0.003137  0.059527  0.014705   \n",
       "1  TEST_001  0.001539 -0.014106  0.006531  0.013342  0.069398 -0.013717   \n",
       "\n",
       "      vec_6     vec_7     vec_8  ...   vec_502   vec_503   vec_504   vec_505  \\\n",
       "0 -0.013557  0.025025  0.026930  ...  0.018252 -0.041767 -0.011106 -0.032668   \n",
       "1 -0.008829 -0.023080 -0.008041  ... -0.025134 -0.016303  0.043635 -0.045904   \n",
       "\n",
       "    vec_506   vec_507   vec_508   vec_509   vec_510   vec_511  \n",
       "0 -0.028045  0.010286  0.053333  0.019077  0.004254  0.030388  \n",
       "1 -0.025309  0.035036 -0.005466 -0.009464  0.036712 -0.004162  \n",
       "\n",
       "[2 rows x 513 columns]"
      ]
     },
     "execution_count": 17,
     "metadata": {},
     "output_type": "execute_result"
    }
   ],
   "source": [
    "sub.head(2)"
   ]
  },
  {
   "cell_type": "code",
   "execution_count": 19,
   "metadata": {},
   "outputs": [],
   "source": [
    "sub.set_index('id',inplace=True)"
   ]
  },
  {
   "cell_type": "code",
   "execution_count": 20,
   "metadata": {},
   "outputs": [
    {
     "data": {
      "text/html": [
       "<div>\n",
       "<style scoped>\n",
       "    .dataframe tbody tr th:only-of-type {\n",
       "        vertical-align: middle;\n",
       "    }\n",
       "\n",
       "    .dataframe tbody tr th {\n",
       "        vertical-align: top;\n",
       "    }\n",
       "\n",
       "    .dataframe thead th {\n",
       "        text-align: right;\n",
       "    }\n",
       "</style>\n",
       "<table border=\"1\" class=\"dataframe\">\n",
       "  <thead>\n",
       "    <tr style=\"text-align: right;\">\n",
       "      <th></th>\n",
       "      <th>vec_0</th>\n",
       "      <th>vec_1</th>\n",
       "      <th>vec_2</th>\n",
       "      <th>vec_3</th>\n",
       "      <th>vec_4</th>\n",
       "      <th>vec_5</th>\n",
       "      <th>vec_6</th>\n",
       "      <th>vec_7</th>\n",
       "      <th>vec_8</th>\n",
       "      <th>vec_9</th>\n",
       "      <th>...</th>\n",
       "      <th>vec_502</th>\n",
       "      <th>vec_503</th>\n",
       "      <th>vec_504</th>\n",
       "      <th>vec_505</th>\n",
       "      <th>vec_506</th>\n",
       "      <th>vec_507</th>\n",
       "      <th>vec_508</th>\n",
       "      <th>vec_509</th>\n",
       "      <th>vec_510</th>\n",
       "      <th>vec_511</th>\n",
       "    </tr>\n",
       "    <tr>\n",
       "      <th>id</th>\n",
       "      <th></th>\n",
       "      <th></th>\n",
       "      <th></th>\n",
       "      <th></th>\n",
       "      <th></th>\n",
       "      <th></th>\n",
       "      <th></th>\n",
       "      <th></th>\n",
       "      <th></th>\n",
       "      <th></th>\n",
       "      <th></th>\n",
       "      <th></th>\n",
       "      <th></th>\n",
       "      <th></th>\n",
       "      <th></th>\n",
       "      <th></th>\n",
       "      <th></th>\n",
       "      <th></th>\n",
       "      <th></th>\n",
       "      <th></th>\n",
       "      <th></th>\n",
       "    </tr>\n",
       "  </thead>\n",
       "  <tbody>\n",
       "    <tr>\n",
       "      <th>TEST_000</th>\n",
       "      <td>0.044647</td>\n",
       "      <td>0.044686</td>\n",
       "      <td>0.019709</td>\n",
       "      <td>0.003137</td>\n",
       "      <td>0.059527</td>\n",
       "      <td>0.014705</td>\n",
       "      <td>-0.013557</td>\n",
       "      <td>0.025025</td>\n",
       "      <td>0.026930</td>\n",
       "      <td>0.023581</td>\n",
       "      <td>...</td>\n",
       "      <td>0.018252</td>\n",
       "      <td>-0.041767</td>\n",
       "      <td>-0.011106</td>\n",
       "      <td>-0.032668</td>\n",
       "      <td>-0.028045</td>\n",
       "      <td>0.010286</td>\n",
       "      <td>0.053333</td>\n",
       "      <td>0.019077</td>\n",
       "      <td>0.004254</td>\n",
       "      <td>0.030388</td>\n",
       "    </tr>\n",
       "    <tr>\n",
       "      <th>TEST_001</th>\n",
       "      <td>0.001539</td>\n",
       "      <td>-0.014106</td>\n",
       "      <td>0.006531</td>\n",
       "      <td>0.013342</td>\n",
       "      <td>0.069398</td>\n",
       "      <td>-0.013717</td>\n",
       "      <td>-0.008829</td>\n",
       "      <td>-0.023080</td>\n",
       "      <td>-0.008041</td>\n",
       "      <td>0.016860</td>\n",
       "      <td>...</td>\n",
       "      <td>-0.025134</td>\n",
       "      <td>-0.016303</td>\n",
       "      <td>0.043635</td>\n",
       "      <td>-0.045904</td>\n",
       "      <td>-0.025309</td>\n",
       "      <td>0.035036</td>\n",
       "      <td>-0.005466</td>\n",
       "      <td>-0.009464</td>\n",
       "      <td>0.036712</td>\n",
       "      <td>-0.004162</td>\n",
       "    </tr>\n",
       "  </tbody>\n",
       "</table>\n",
       "<p>2 rows × 512 columns</p>\n",
       "</div>"
      ],
      "text/plain": [
       "             vec_0     vec_1     vec_2     vec_3     vec_4     vec_5  \\\n",
       "id                                                                     \n",
       "TEST_000  0.044647  0.044686  0.019709  0.003137  0.059527  0.014705   \n",
       "TEST_001  0.001539 -0.014106  0.006531  0.013342  0.069398 -0.013717   \n",
       "\n",
       "             vec_6     vec_7     vec_8     vec_9  ...   vec_502   vec_503  \\\n",
       "id                                                ...                       \n",
       "TEST_000 -0.013557  0.025025  0.026930  0.023581  ...  0.018252 -0.041767   \n",
       "TEST_001 -0.008829 -0.023080 -0.008041  0.016860  ... -0.025134 -0.016303   \n",
       "\n",
       "           vec_504   vec_505   vec_506   vec_507   vec_508   vec_509  \\\n",
       "id                                                                     \n",
       "TEST_000 -0.011106 -0.032668 -0.028045  0.010286  0.053333  0.019077   \n",
       "TEST_001  0.043635 -0.045904 -0.025309  0.035036 -0.005466 -0.009464   \n",
       "\n",
       "           vec_510   vec_511  \n",
       "id                            \n",
       "TEST_000  0.004254  0.030388  \n",
       "TEST_001  0.036712 -0.004162  \n",
       "\n",
       "[2 rows x 512 columns]"
      ]
     },
     "execution_count": 20,
     "metadata": {},
     "output_type": "execute_result"
    }
   ],
   "source": [
    "sub.head(2)"
   ]
  },
  {
   "cell_type": "code",
   "execution_count": 21,
   "metadata": {},
   "outputs": [],
   "source": [
    "sub.to_csv('../result/GAI-LLM-Yi-Ko-6B-mixed-v15-qlora-v1.csv')"
   ]
  },
  {
   "cell_type": "code",
   "execution_count": 33,
   "metadata": {},
   "outputs": [],
   "source": [
    "with open('../result/GAI-LLM-Yi-Ko-6B-mixed-v15-qlora-v1.txt ', 'w+') as file:\n",
    "    file.write('\\n'.join(generated_sent))"
   ]
  }
 ],
 "metadata": {
  "kernelspec": {
   "display_name": "llm",
   "language": "python",
   "name": "python3"
  },
  "language_info": {
   "codemirror_mode": {
    "name": "ipython",
    "version": 3
   },
   "file_extension": ".py",
   "mimetype": "text/x-python",
   "name": "python",
   "nbconvert_exporter": "python",
   "pygments_lexer": "ipython3",
   "version": "3.10.13"
  }
 },
 "nbformat": 4,
 "nbformat_minor": 2
}
