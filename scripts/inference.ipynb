{
 "cells": [
  {
   "cell_type": "code",
   "execution_count": 1,
   "metadata": {},
   "outputs": [],
   "source": [
    "import numpy as np\n",
    "import pandas as pd"
   ]
  },
  {
   "cell_type": "markdown",
   "metadata": {},
   "source": [
    "# base model"
   ]
  },
  {
   "cell_type": "code",
   "execution_count": 1,
   "metadata": {},
   "outputs": [
    {
     "name": "stderr",
     "output_type": "stream",
     "text": [
      "/home/seungbinyang/anaconda3/envs/llm/lib/python3.10/site-packages/tqdm/auto.py:21: TqdmWarning: IProgress not found. Please update jupyter and ipywidgets. See https://ipywidgets.readthedocs.io/en/stable/user_install.html\n",
      "  from .autonotebook import tqdm as notebook_tqdm\n",
      "/home/seungbinyang/anaconda3/envs/llm/lib/python3.10/site-packages/transformers/utils/generic.py:441: UserWarning: torch.utils._pytree._register_pytree_node is deprecated. Please use torch.utils._pytree.register_pytree_node instead.\n",
      "  _torch_pytree._register_pytree_node(\n",
      "/home/seungbinyang/anaconda3/envs/llm/lib/python3.10/site-packages/transformers/utils/generic.py:309: UserWarning: torch.utils._pytree._register_pytree_node is deprecated. Please use torch.utils._pytree.register_pytree_node instead.\n",
      "  _torch_pytree._register_pytree_node(\n",
      "Loading checkpoint shards: 100%|██████████| 5/5 [00:03<00:00,  1.33it/s]\n",
      "tokenizer_config.json: 100%|██████████| 1.33k/1.33k [00:00<00:00, 4.53MB/s]\n",
      "tokenizer.json: 100%|██████████| 2.21M/2.21M [00:00<00:00, 2.90MB/s]\n"
     ]
    }
   ],
   "source": [
    "from peft import PeftConfig, PeftModel\n",
    "from transformers import AutoModelForCausalLM, AutoTokenizer\n",
    "\n",
    "device = \"cuda:1\"\n",
    "\n",
    "base_model_name = \"LDCC/LDCC-SOLAR-10.7B\"\n",
    "\n",
    "model = AutoModelForCausalLM.from_pretrained(base_model_name).to(device)\n",
    "tokenizer = AutoTokenizer.from_pretrained(base_model_name, revision='v1.1')"
   ]
  },
  {
   "cell_type": "code",
   "execution_count": 3,
   "metadata": {},
   "outputs": [
    {
     "name": "stderr",
     "output_type": "stream",
     "text": [
      "\n",
      "No chat template is defined for this tokenizer - using the default template for the LlamaTokenizerFast class. If the default is not appropriate for your model, please set `tokenizer.chat_template` to an appropriate template. See https://huggingface.co/docs/transformers/main/chat_templating for more information.\n",
      "\n"
     ]
    },
    {
     "name": "stdout",
     "output_type": "stream",
     "text": [
      "<s> [INST] <<SYS>>\n",
      "You are a helpful, respectful and honest assistant. Always answer as helpfully as possible, while being safe. Your answers should not include any harmful, unethical, racist, sexist, toxic, dangerous, or illegal content. Please ensure that your responses are socially unbiased and positive in nature.\n",
      "\n",
      "If a question does not make any sense, or is not factually coherent, explain why instead of answering something not correct. If you don't know the answer to a question, please don't share false information.\n",
      "<</SYS>>\n",
      "\n",
      "대한민국의 수도는 어디야? [/INST] 대한민국의 수도는 서울입니다. <|im_end|><s> [INST] 서울 인구는 총 몇 명이야? [/INST]\n",
      "대한민국  인구조사 결과 에 따르면 , 2020년 서울 시 기준   인구 는 974만 967명입니다입니다 . 하지만 이 숫자는 수시로 변하기 때문에 정확한 인수가 필요하면 통계 청 홈페이지 (www.kostat.go.kr) 또는 관공서에 직접 확인하시는 것이 좋습니다 .<|im_end|>\n"
     ]
    }
   ],
   "source": [
    "messages = [\n",
    "    {\"role\": \"user\", \"content\": \"대한민국의 수도는 어디야?\"},\n",
    "    {\"role\": \"assistant\", \"content\": \"대한민국의 수도는 서울입니다.\"},\n",
    "    {\"role\": \"user\", \"content\": \"서울 인구는 총 몇 명이야?\"}\n",
    "]\n",
    "\n",
    "encodeds = tokenizer.apply_chat_template(messages, return_tensors=\"pt\")\n",
    "\n",
    "model_inputs = encodeds.to(device)\n",
    "model.to(device)\n",
    "\n",
    "generated_ids = model.generate(model_inputs, max_new_tokens=1000, do_sample=True)\n",
    "decoded = tokenizer.batch_decode(generated_ids)\n",
    "print(decoded[0])"
   ]
  },
  {
   "cell_type": "code",
   "execution_count": 11,
   "metadata": {},
   "outputs": [],
   "source": [
    "import pandas as pd\n",
    "eval_data = pd.read_csv('../data/eval_v5.csv')\n",
    "texts = []\n",
    "for i in range(len(eval_data)):\n",
    "        row = eval_data.iloc[i]\n",
    "        question = row['질문']\n",
    "        answer = row['답변']\n",
    "        item = [\n",
    "                {\"role\":\"user\", \"content\":question},\n",
    "                {\"role\":\"assistant\", \"content\":answer},\n",
    "        ]\n",
    "        \n",
    "        text = tokenizer.apply_chat_template(item, tokenize=False, add_generation_prompt=True)\n",
    "        texts.append(text)"
   ]
  },
  {
   "cell_type": "code",
   "execution_count": 14,
   "metadata": {},
   "outputs": [
    {
     "name": "stdout",
     "output_type": "stream",
     "text": [
      "<s>[INST] <<SYS>>\n",
      "You are a helpful, respectful and honest assistant. Always answer as helpfully as possible, while being safe. Your answers should not include any harmful, unethical, racist, sexist, toxic, dangerous, or illegal content. Please ensure that your responses are socially unbiased and positive in nature.\n",
      "\n",
      "If a question does not make any sense, or is not factually coherent, explain why instead of answering something not correct. If you don't know the answer to a question, please don't share false information.\n",
      "<</SYS>>\n",
      "\n",
      "알루미늄징크의 단점에 대해 좀 더 알려주실 수 있을까요?포세린 타일의 기대수명은 얼마야? [/INST] 알루미늄징크은 시공이 잘못될 경우 우는 현상이 발생하고 리얼징크보다 가격이 좀 더 비싼 것이 단점입니다.포세린 타일의 기대수명은 50년입니다. <|im_end|>\n"
     ]
    }
   ],
   "source": [
    "print(texts[0])"
   ]
  },
  {
   "cell_type": "markdown",
   "metadata": {},
   "source": [
    "# fine-tuned model - lora"
   ]
  },
  {
   "cell_type": "code",
   "execution_count": 1,
   "metadata": {},
   "outputs": [
    {
     "name": "stderr",
     "output_type": "stream",
     "text": [
      "/home/seungbinyang/anaconda3/envs/llm/lib/python3.10/site-packages/tqdm/auto.py:21: TqdmWarning: IProgress not found. Please update jupyter and ipywidgets. See https://ipywidgets.readthedocs.io/en/stable/user_install.html\n",
      "  from .autonotebook import tqdm as notebook_tqdm\n",
      "/home/seungbinyang/anaconda3/envs/llm/lib/python3.10/site-packages/transformers/utils/generic.py:441: UserWarning: torch.utils._pytree._register_pytree_node is deprecated. Please use torch.utils._pytree.register_pytree_node instead.\n",
      "  _torch_pytree._register_pytree_node(\n",
      "/home/seungbinyang/anaconda3/envs/llm/lib/python3.10/site-packages/transformers/utils/generic.py:309: UserWarning: torch.utils._pytree._register_pytree_node is deprecated. Please use torch.utils._pytree.register_pytree_node instead.\n",
      "  _torch_pytree._register_pytree_node(\n",
      "Loading checkpoint shards: 100%|██████████| 5/5 [00:03<00:00,  1.50it/s]\n"
     ]
    }
   ],
   "source": [
    "from peft import PeftConfig, PeftModel\n",
    "from transformers import AutoModelForCausalLM, AutoTokenizer\n",
    "\n",
    "device = \"cuda:2\"\n",
    "\n",
    "#base_model_name = \"LDCC/LDCC-SOLAR-10.7B\"\n",
    "#adapter_model_name = \"../model/LDCC-SOLAR-10.7B-v5\"\n",
    "\n",
    "base_model_name = \"yanolja/EEVE-Korean-10.8B-v1.0\"\n",
    "#adapter_model_name = \"../model/yanolja-EEVE-Korean-10.8B-v1.0-v8\"\n",
    "adapter_model_name = \"../model/yanolja-EEVE-Korean-10.8B-v1.0-last-default-chat-template\"\n",
    "\n",
    "model = AutoModelForCausalLM.from_pretrained(base_model_name).to(device)\n",
    "model = PeftModel.from_pretrained(model, adapter_model_name)\n",
    "\n",
    "tokenizer = AutoTokenizer.from_pretrained(adapter_model_name)"
   ]
  },
  {
   "cell_type": "code",
   "execution_count": 2,
   "metadata": {},
   "outputs": [],
   "source": [
    "text = '도배지에 녹은 자국이 발생하는 주된 원인과 그 해결 방법은 무엇인가요?'\n",
    "'''\n",
    "PROMPT_TEMPLATE = '{sep_token}{question}{eos_token}'\n",
    "prompt = PROMPT_TEMPLATE.format(question=text,\n",
    "                                        sep_token=tokenizer.sep_token,\n",
    "                                        eos_token=tokenizer.eos_token)\n",
    "        \n",
    "inputs = tokenizer.encode(prompt, return_tensors=\"pt\").to(device)\n",
    "'''\n",
    "inputs = tokenizer.apply_chat_template(\n",
    "    [\n",
    "        {'role':'user','content':text}\n",
    "    ]\n",
    "    , add_generation_prompt=True,\n",
    "    return_tensors='pt'\n",
    ").to(device)\n"
   ]
  },
  {
   "cell_type": "code",
   "execution_count": 3,
   "metadata": {},
   "outputs": [
    {
     "data": {
      "text/plain": [
       "'<|im_start|>system\\nYou are a helpful assistant.<|im_end|> \\n<|im_start|>user\\n도배지에 녹은 자국이 발생하는 주된 원인과 그 해결 방법은 무엇인가요?<|im_end|> \\n<|im_start|>assistant\\n'"
      ]
     },
     "execution_count": 3,
     "metadata": {},
     "output_type": "execute_result"
    }
   ],
   "source": [
    "tokenizer.decode(inputs[0])"
   ]
  },
  {
   "cell_type": "code",
   "execution_count": 4,
   "metadata": {},
   "outputs": [
    {
     "name": "stderr",
     "output_type": "stream",
     "text": [
      "The attention mask and the pad token id were not set. As a consequence, you may observe unexpected behavior. Please pass your input's `attention_mask` to obtain reliable results.\n",
      "Setting `pad_token_id` to `eos_token_id`:32000 for open-end generation.\n"
     ]
    },
    {
     "name": "stdout",
     "output_type": "stream",
     "text": [
      "<|im_start|>system\n",
      "You are a helpful assistant. \n",
      "<|im_start|>user\n",
      "도배지에 녹은 자국이 발생하는 주된 원인과 그 해결 방법은 무엇인가요? \n",
      "<|im_start|>assistant\n",
      "도배지에 녹이 묻어나오거나 녹이 묻은 손으로 만진 후 도배지에 얼룩이 발생하는 경우 녹오염으로 판단합니다. 녹오염이 발생하는 원인 - 책임소재 - 해결방법에 대해 설명드리겠습니다. 1. 공간 내 높은 습도 원인 : 높은 습기로 인해 도배지 안쪽의 금속의 녹이 도배지에 베어나올 수 있습니다. 책임소재 : 건물의 소유자나 거주자가 습기 관리의 책임이 있습니다. 해결 방법 : 제습기 가동, 환기를 통해 실내 적정 습도를 유지하고 전문가의 도움을 받아 보수작업하는 것을 추천합니다. 2. 누수 원인 : 누수에 의해 도배지가 젖어 있는 상태가 지속되면 곰팡이가 발생할 수 있습니다. 책임소재 : 건물의 소유자나 거주자가 책임이 있습니다. 해결 방법 : 보수작업을 통해 누수를 제거하고 곰팡이가 발생한 도배지의 부분 및 전체를 교체해야 합니다. 해당 작업은 개인이 하기 어려운 작업이니 전문가의 도움을 받는 것을 추천합니다.\n"
     ]
    }
   ],
   "source": [
    "#inputs = tokenizer.encode(f\"{tokenizer.sep_token}경질우레탄폼 보온판을 사용한 외단열 시공은 어떤 장점과 단점을 가져?{tokenizer.eos_token}\", return_tensors=\"pt\").to(device)\n",
    "\n",
    "outputs = model.generate(input_ids=inputs, \n",
    "                        #num_beams=5,\n",
    "                         num_beams=1, \n",
    "                        eos_token_id=tokenizer.eos_token_id, \n",
    "                        max_new_tokens=512)\n",
    "\n",
    "print(tokenizer.decode(outputs[0], skip_special_tokens=True))"
   ]
  },
  {
   "cell_type": "code",
   "execution_count": 5,
   "metadata": {},
   "outputs": [],
   "source": [
    "def extract_text(input_string):\n",
    "    index_t = input_string.rfind('assistant')\n",
    "    if index_t != -1:  \n",
    "        result = input_string[index_t + len('assistant'):]\n",
    "    else: \n",
    "        raise Exception\n",
    "    return result.strip()"
   ]
  },
  {
   "cell_type": "code",
   "execution_count": 6,
   "metadata": {},
   "outputs": [
    {
     "name": "stdout",
     "output_type": "stream",
     "text": [
      "도배지에 녹이 묻어나오거나 녹이 묻은 손으로 만진 후 도배지에 얼룩이 발생하는 경우 녹오염으로 판단합니다. 녹오염이 발생하는 원인 - 책임소재 - 해결방법에 대해 설명드리겠습니다. 1. 공간 내 높은 습도 원인 : 높은 습기로 인해 도배지 안쪽의 금속의 녹이 도배지에 베어나올 수 있습니다. 책임소재 : 건물의 소유자나 거주자가 습기 관리의 책임이 있습니다. 해결 방법 : 제습기 가동, 환기를 통해 실내 적정 습도를 유지하고 전문가의 도움을 받아 보수작업하는 것을 추천합니다. 2. 누수 원인 : 누수에 의해 도배지가 젖어 있는 상태가 지속되면 곰팡이가 발생할 수 있습니다. 책임소재 : 건물의 소유자나 거주자가 책임이 있습니다. 해결 방법 : 보수작업을 통해 누수를 제거하고 곰팡이가 발생한 도배지의 부분 및 전체를 교체해야 합니다. 해당 작업은 개인이 하기 어려운 작업이니 전문가의 도움을 받는 것을 추천합니다.\n"
     ]
    }
   ],
   "source": [
    "print(extract_text(tokenizer.decode(outputs[0], skip_special_tokens=True)))"
   ]
  },
  {
   "cell_type": "code",
   "execution_count": 7,
   "metadata": {},
   "outputs": [
    {
     "name": "stdout",
     "output_type": "stream",
     "text": [
      "도배지에 녹이 묻어나오거나 녹이 묻은 손으로 만진 후 도배지에 얼룩이 발생하는 경우 녹오염으로 판단합니다. 녹오염이 발생하는 원인 - 책임소재 - 해결방법에 대해 설명드리겠습니다. 1. 공간 내 높은 습도 원인 : 높은 습기로 인해 도배지 안쪽의 금속의 녹이 도배지에 베어나올 수 있습니다. 책임소재 : 건물의 소유자나 거주자가 습기 관리의 책임이 있습니다. 해결 방법 : 제습기 가동, 환기를 통해 실내 적정 습도를 유지하고 전문가의 도움을 받아 보수작업하는 것을 추천합니다. 2. 누수 원인 : 누수에 의해 도배지가 젖어 있는 상태가 지속되면 곰팡이가 발생할 수 있습니다. 책임소재 : 건물의 소유자나 거주자가 책임이 있습니다. 해결 방법 : 보수작업을 통해 누수를 제거하고 곰팡이가 발생한 도배지의 부분 및 전체를 교체해야 합니다. 해당 작업은 개인이 하기 어려운 작업이니 전문가의 도움을 받는 것을 추천합니다.<|im_end|>\n"
     ]
    }
   ],
   "source": [
    "print(extract_text(tokenizer.decode(outputs[0])))"
   ]
  },
  {
   "cell_type": "code",
   "execution_count": 7,
   "metadata": {},
   "outputs": [
    {
     "name": "stdout",
     "output_type": "stream",
     "text": [
      "외단열 시공은 동절기의 혹한과 하절기의 혹서에도 건물 내부의 온도와 습도를 안정적으로 유지해주는 장점이 있습니다. 또한, 단열재가 건축물 겉면을 감싸주고 있기 때문에 비가 건물 외벽을 통해 새는 것을 방지하고, 건물 내부의 습도 조절을 쉽게 할 수 있는 등 건축물의 성능과 효율을 향상시키는 데 도움을 줍니다.<|im_end|>\n"
     ]
    }
   ],
   "source": [
    "def extract_text(input_string):\n",
    "    index_t = input_string.rfind('<|im_start|>')\n",
    "    if index_t != -1:  \n",
    "        result = input_string[index_t + len('<|im_start|>'):]\n",
    "    else: \n",
    "        raise Exception\n",
    "    return result.strip()\n",
    "\n",
    "\n",
    "print(extract_text(tokenizer.decode(outputs[0])))"
   ]
  },
  {
   "cell_type": "markdown",
   "metadata": {},
   "source": [
    "# fine-tuned - full"
   ]
  },
  {
   "cell_type": "code",
   "execution_count": null,
   "metadata": {},
   "outputs": [],
   "source": [
    "from peft import PeftConfig, PeftModel\n",
    "from transformers import AutoModelForCausalLM, AutoTokenizer\n",
    "\n",
    "device = \"cuda\"\n",
    "\n",
    "base_model_name = \"../model/GAI-LLM-Yi-Ko-6B-mixed-v15-sft-qlora-full-v4\"\n",
    "\n",
    "model = AutoModelForCausalLM.from_pretrained(base_model_name, device_map=\"auto\")\n",
    "\n",
    "tokenizer = AutoTokenizer.from_pretrained(base_model_name)"
   ]
  },
  {
   "cell_type": "code",
   "execution_count": null,
   "metadata": {},
   "outputs": [],
   "source": [
    "inputs = tokenizer.encode(f\"[INST]방청 페인트의 종류에는 어떤 것들이 있는지 알고 계신가요? 또한, 원목사이딩을 사용하는 것에 어떤 단점이 있을까요?[/INST]\", return_tensors=\"pt\").to(device)\n",
    "outputs = model.generate(input_ids=inputs, \n",
    "                         max_length=512, \n",
    "                         num_beams=5)\n",
    "\n",
    "print(tokenizer.decode(outputs[0], skip_special_tokens=True))"
   ]
  },
  {
   "cell_type": "markdown",
   "metadata": {},
   "source": [
    "# inference"
   ]
  },
  {
   "cell_type": "code",
   "execution_count": 10,
   "metadata": {},
   "outputs": [],
   "source": [
    "def extract_text(input_string):\n",
    "    index_t = input_string.find('<|assistant|>')\n",
    "    if index_t != -1:  \n",
    "        result = input_string[index_t + len('<|assistant|>'):]\n",
    "    else: \n",
    "        raise Exception\n",
    "    return result"
   ]
  },
  {
   "cell_type": "code",
   "execution_count": 8,
   "metadata": {},
   "outputs": [
    {
     "data": {
      "text/html": [
       "<div>\n",
       "<style scoped>\n",
       "    .dataframe tbody tr th:only-of-type {\n",
       "        vertical-align: middle;\n",
       "    }\n",
       "\n",
       "    .dataframe tbody tr th {\n",
       "        vertical-align: top;\n",
       "    }\n",
       "\n",
       "    .dataframe thead th {\n",
       "        text-align: right;\n",
       "    }\n",
       "</style>\n",
       "<table border=\"1\" class=\"dataframe\">\n",
       "  <thead>\n",
       "    <tr style=\"text-align: right;\">\n",
       "      <th></th>\n",
       "      <th>id</th>\n",
       "      <th>질문</th>\n",
       "    </tr>\n",
       "  </thead>\n",
       "  <tbody>\n",
       "    <tr>\n",
       "      <th>0</th>\n",
       "      <td>TEST_000</td>\n",
       "      <td>방청 페인트의 종류에는 어떤 것들이 있는지 알고 계신가요? 또한, 원목사이딩을 사용...</td>\n",
       "    </tr>\n",
       "    <tr>\n",
       "      <th>1</th>\n",
       "      <td>TEST_001</td>\n",
       "      <td>도배지에 녹은 자국이 발생하는 주된 원인과 그 해결 방법은 무엇인가요?</td>\n",
       "    </tr>\n",
       "    <tr>\n",
       "      <th>2</th>\n",
       "      <td>TEST_002</td>\n",
       "      <td>큐블럭의 단점을 알려주세요. 또한, 압출법 단열판을 사용하는 것의 장점은 무엇인가요?</td>\n",
       "    </tr>\n",
       "  </tbody>\n",
       "</table>\n",
       "</div>"
      ],
      "text/plain": [
       "         id                                                 질문\n",
       "0  TEST_000  방청 페인트의 종류에는 어떤 것들이 있는지 알고 계신가요? 또한, 원목사이딩을 사용...\n",
       "1  TEST_001            도배지에 녹은 자국이 발생하는 주된 원인과 그 해결 방법은 무엇인가요?\n",
       "2  TEST_002    큐블럭의 단점을 알려주세요. 또한, 압출법 단열판을 사용하는 것의 장점은 무엇인가요?"
      ]
     },
     "execution_count": 8,
     "metadata": {},
     "output_type": "execute_result"
    }
   ],
   "source": [
    "test = pd.read_csv('../data/test_raw.csv')\n",
    "test.head(3)"
   ]
  },
  {
   "cell_type": "code",
   "execution_count": 11,
   "metadata": {},
   "outputs": [],
   "source": [
    "import tqdm\n",
    "\n",
    "generated_sent = []\n",
    "\n",
    "for i in tqdm(range(len(test))):\n",
    "    q = test.iloc[i]['질문']\n",
    "    prompt = f'<|user|>{q}{tokenizer.eos_token}<|assistant|>'\n",
    "\n",
    "    inputs = tokenizer.encode(prompt, return_tensors=\"pt\").to(device)\n",
    "    outputs = model.generate(input_ids=inputs, max_length=512)\n",
    "    response = tokenizer.decode(outputs[0], skip_special_tokens=True)\n",
    "    response = extract_text(response)\n",
    "\n",
    "    generated_sent.append(response)"
   ]
  },
  {
   "cell_type": "markdown",
   "metadata": {},
   "source": [
    "# submission"
   ]
  },
  {
   "cell_type": "code",
   "execution_count": 14,
   "metadata": {},
   "outputs": [
    {
     "name": "stderr",
     "output_type": "stream",
     "text": [
      "modules.json: 100%|██████████| 341/341 [00:00<00:00, 1.07MB/s]\n",
      "config_sentence_transformers.json: 100%|██████████| 122/122 [00:00<00:00, 523kB/s]\n",
      "README.md: 100%|██████████| 2.45k/2.45k [00:00<00:00, 10.2MB/s]\n",
      "sentence_bert_config.json: 100%|██████████| 53.0/53.0 [00:00<00:00, 234kB/s]\n",
      "config.json: 100%|██████████| 556/556 [00:00<00:00, 2.28MB/s]\n",
      "pytorch_model.bin: 100%|██████████| 539M/539M [00:10<00:00, 50.8MB/s] \n",
      "tokenizer_config.json: 100%|██████████| 452/452 [00:00<00:00, 1.64MB/s]\n",
      "vocab.txt: 100%|██████████| 996k/996k [00:00<00:00, 1.78MB/s]\n",
      "tokenizer.json: 100%|██████████| 1.96M/1.96M [00:00<00:00, 2.10MB/s]\n",
      "special_tokens_map.json: 100%|██████████| 112/112 [00:00<00:00, 481kB/s]\n",
      "1_Pooling/config.json: 100%|██████████| 190/190 [00:00<00:00, 546kB/s]\n",
      "2_Dense/config.json: 100%|██████████| 114/114 [00:00<00:00, 405kB/s]\n",
      "pytorch_model.bin: 100%|██████████| 1.58M/1.58M [00:01<00:00, 1.40MB/s]\n"
     ]
    }
   ],
   "source": [
    "import numpy as np\n",
    "import pandas as pd\n",
    "from sentence_transformers import SentenceTransformer # SentenceTransformer Version 2.2.2\n",
    "\n",
    "# Embedding Vector 추출에 활용할 모델(distiluse-base-multilingual-cased-v1) 불러오기\n",
    "m = SentenceTransformer('distiluse-base-multilingual-cased-v1')\n",
    "\n",
    "sub=pd.read_csv('../data/sample_submission.csv')"
   ]
  },
  {
   "cell_type": "code",
   "execution_count": 15,
   "metadata": {},
   "outputs": [],
   "source": [
    "encode_list=[]\n",
    "for i in range(len(generated_sent)):\n",
    "  embed=m.encode(generated_sent[i]) #주어진 모델로 인코딩\n",
    "  encode_list.append(embed)"
   ]
  },
  {
   "cell_type": "code",
   "execution_count": null,
   "metadata": {},
   "outputs": [],
   "source": [
    "for i in range(len(encode_list)):\n",
    "  sub.loc[i, 'vec_0':'vec_511']=encode_list[i] #제출 파일에 끼워넣기"
   ]
  },
  {
   "cell_type": "code",
   "execution_count": 17,
   "metadata": {},
   "outputs": [
    {
     "data": {
      "text/html": [
       "<div>\n",
       "<style scoped>\n",
       "    .dataframe tbody tr th:only-of-type {\n",
       "        vertical-align: middle;\n",
       "    }\n",
       "\n",
       "    .dataframe tbody tr th {\n",
       "        vertical-align: top;\n",
       "    }\n",
       "\n",
       "    .dataframe thead th {\n",
       "        text-align: right;\n",
       "    }\n",
       "</style>\n",
       "<table border=\"1\" class=\"dataframe\">\n",
       "  <thead>\n",
       "    <tr style=\"text-align: right;\">\n",
       "      <th></th>\n",
       "      <th>id</th>\n",
       "      <th>vec_0</th>\n",
       "      <th>vec_1</th>\n",
       "      <th>vec_2</th>\n",
       "      <th>vec_3</th>\n",
       "      <th>vec_4</th>\n",
       "      <th>vec_5</th>\n",
       "      <th>vec_6</th>\n",
       "      <th>vec_7</th>\n",
       "      <th>vec_8</th>\n",
       "      <th>...</th>\n",
       "      <th>vec_502</th>\n",
       "      <th>vec_503</th>\n",
       "      <th>vec_504</th>\n",
       "      <th>vec_505</th>\n",
       "      <th>vec_506</th>\n",
       "      <th>vec_507</th>\n",
       "      <th>vec_508</th>\n",
       "      <th>vec_509</th>\n",
       "      <th>vec_510</th>\n",
       "      <th>vec_511</th>\n",
       "    </tr>\n",
       "  </thead>\n",
       "  <tbody>\n",
       "    <tr>\n",
       "      <th>0</th>\n",
       "      <td>TEST_000</td>\n",
       "      <td>0.044647</td>\n",
       "      <td>0.044686</td>\n",
       "      <td>0.019709</td>\n",
       "      <td>0.003137</td>\n",
       "      <td>0.059527</td>\n",
       "      <td>0.014705</td>\n",
       "      <td>-0.013557</td>\n",
       "      <td>0.025025</td>\n",
       "      <td>0.026930</td>\n",
       "      <td>...</td>\n",
       "      <td>0.018252</td>\n",
       "      <td>-0.041767</td>\n",
       "      <td>-0.011106</td>\n",
       "      <td>-0.032668</td>\n",
       "      <td>-0.028045</td>\n",
       "      <td>0.010286</td>\n",
       "      <td>0.053333</td>\n",
       "      <td>0.019077</td>\n",
       "      <td>0.004254</td>\n",
       "      <td>0.030388</td>\n",
       "    </tr>\n",
       "    <tr>\n",
       "      <th>1</th>\n",
       "      <td>TEST_001</td>\n",
       "      <td>0.001539</td>\n",
       "      <td>-0.014106</td>\n",
       "      <td>0.006531</td>\n",
       "      <td>0.013342</td>\n",
       "      <td>0.069398</td>\n",
       "      <td>-0.013717</td>\n",
       "      <td>-0.008829</td>\n",
       "      <td>-0.023080</td>\n",
       "      <td>-0.008041</td>\n",
       "      <td>...</td>\n",
       "      <td>-0.025134</td>\n",
       "      <td>-0.016303</td>\n",
       "      <td>0.043635</td>\n",
       "      <td>-0.045904</td>\n",
       "      <td>-0.025309</td>\n",
       "      <td>0.035036</td>\n",
       "      <td>-0.005466</td>\n",
       "      <td>-0.009464</td>\n",
       "      <td>0.036712</td>\n",
       "      <td>-0.004162</td>\n",
       "    </tr>\n",
       "  </tbody>\n",
       "</table>\n",
       "<p>2 rows × 513 columns</p>\n",
       "</div>"
      ],
      "text/plain": [
       "         id     vec_0     vec_1     vec_2     vec_3     vec_4     vec_5  \\\n",
       "0  TEST_000  0.044647  0.044686  0.019709  0.003137  0.059527  0.014705   \n",
       "1  TEST_001  0.001539 -0.014106  0.006531  0.013342  0.069398 -0.013717   \n",
       "\n",
       "      vec_6     vec_7     vec_8  ...   vec_502   vec_503   vec_504   vec_505  \\\n",
       "0 -0.013557  0.025025  0.026930  ...  0.018252 -0.041767 -0.011106 -0.032668   \n",
       "1 -0.008829 -0.023080 -0.008041  ... -0.025134 -0.016303  0.043635 -0.045904   \n",
       "\n",
       "    vec_506   vec_507   vec_508   vec_509   vec_510   vec_511  \n",
       "0 -0.028045  0.010286  0.053333  0.019077  0.004254  0.030388  \n",
       "1 -0.025309  0.035036 -0.005466 -0.009464  0.036712 -0.004162  \n",
       "\n",
       "[2 rows x 513 columns]"
      ]
     },
     "execution_count": 17,
     "metadata": {},
     "output_type": "execute_result"
    }
   ],
   "source": [
    "sub.head(2)"
   ]
  },
  {
   "cell_type": "code",
   "execution_count": 19,
   "metadata": {},
   "outputs": [],
   "source": [
    "sub.set_index('id',inplace=True)"
   ]
  },
  {
   "cell_type": "code",
   "execution_count": 20,
   "metadata": {},
   "outputs": [
    {
     "data": {
      "text/html": [
       "<div>\n",
       "<style scoped>\n",
       "    .dataframe tbody tr th:only-of-type {\n",
       "        vertical-align: middle;\n",
       "    }\n",
       "\n",
       "    .dataframe tbody tr th {\n",
       "        vertical-align: top;\n",
       "    }\n",
       "\n",
       "    .dataframe thead th {\n",
       "        text-align: right;\n",
       "    }\n",
       "</style>\n",
       "<table border=\"1\" class=\"dataframe\">\n",
       "  <thead>\n",
       "    <tr style=\"text-align: right;\">\n",
       "      <th></th>\n",
       "      <th>vec_0</th>\n",
       "      <th>vec_1</th>\n",
       "      <th>vec_2</th>\n",
       "      <th>vec_3</th>\n",
       "      <th>vec_4</th>\n",
       "      <th>vec_5</th>\n",
       "      <th>vec_6</th>\n",
       "      <th>vec_7</th>\n",
       "      <th>vec_8</th>\n",
       "      <th>vec_9</th>\n",
       "      <th>...</th>\n",
       "      <th>vec_502</th>\n",
       "      <th>vec_503</th>\n",
       "      <th>vec_504</th>\n",
       "      <th>vec_505</th>\n",
       "      <th>vec_506</th>\n",
       "      <th>vec_507</th>\n",
       "      <th>vec_508</th>\n",
       "      <th>vec_509</th>\n",
       "      <th>vec_510</th>\n",
       "      <th>vec_511</th>\n",
       "    </tr>\n",
       "    <tr>\n",
       "      <th>id</th>\n",
       "      <th></th>\n",
       "      <th></th>\n",
       "      <th></th>\n",
       "      <th></th>\n",
       "      <th></th>\n",
       "      <th></th>\n",
       "      <th></th>\n",
       "      <th></th>\n",
       "      <th></th>\n",
       "      <th></th>\n",
       "      <th></th>\n",
       "      <th></th>\n",
       "      <th></th>\n",
       "      <th></th>\n",
       "      <th></th>\n",
       "      <th></th>\n",
       "      <th></th>\n",
       "      <th></th>\n",
       "      <th></th>\n",
       "      <th></th>\n",
       "      <th></th>\n",
       "    </tr>\n",
       "  </thead>\n",
       "  <tbody>\n",
       "    <tr>\n",
       "      <th>TEST_000</th>\n",
       "      <td>0.044647</td>\n",
       "      <td>0.044686</td>\n",
       "      <td>0.019709</td>\n",
       "      <td>0.003137</td>\n",
       "      <td>0.059527</td>\n",
       "      <td>0.014705</td>\n",
       "      <td>-0.013557</td>\n",
       "      <td>0.025025</td>\n",
       "      <td>0.026930</td>\n",
       "      <td>0.023581</td>\n",
       "      <td>...</td>\n",
       "      <td>0.018252</td>\n",
       "      <td>-0.041767</td>\n",
       "      <td>-0.011106</td>\n",
       "      <td>-0.032668</td>\n",
       "      <td>-0.028045</td>\n",
       "      <td>0.010286</td>\n",
       "      <td>0.053333</td>\n",
       "      <td>0.019077</td>\n",
       "      <td>0.004254</td>\n",
       "      <td>0.030388</td>\n",
       "    </tr>\n",
       "    <tr>\n",
       "      <th>TEST_001</th>\n",
       "      <td>0.001539</td>\n",
       "      <td>-0.014106</td>\n",
       "      <td>0.006531</td>\n",
       "      <td>0.013342</td>\n",
       "      <td>0.069398</td>\n",
       "      <td>-0.013717</td>\n",
       "      <td>-0.008829</td>\n",
       "      <td>-0.023080</td>\n",
       "      <td>-0.008041</td>\n",
       "      <td>0.016860</td>\n",
       "      <td>...</td>\n",
       "      <td>-0.025134</td>\n",
       "      <td>-0.016303</td>\n",
       "      <td>0.043635</td>\n",
       "      <td>-0.045904</td>\n",
       "      <td>-0.025309</td>\n",
       "      <td>0.035036</td>\n",
       "      <td>-0.005466</td>\n",
       "      <td>-0.009464</td>\n",
       "      <td>0.036712</td>\n",
       "      <td>-0.004162</td>\n",
       "    </tr>\n",
       "  </tbody>\n",
       "</table>\n",
       "<p>2 rows × 512 columns</p>\n",
       "</div>"
      ],
      "text/plain": [
       "             vec_0     vec_1     vec_2     vec_3     vec_4     vec_5  \\\n",
       "id                                                                     \n",
       "TEST_000  0.044647  0.044686  0.019709  0.003137  0.059527  0.014705   \n",
       "TEST_001  0.001539 -0.014106  0.006531  0.013342  0.069398 -0.013717   \n",
       "\n",
       "             vec_6     vec_7     vec_8     vec_9  ...   vec_502   vec_503  \\\n",
       "id                                                ...                       \n",
       "TEST_000 -0.013557  0.025025  0.026930  0.023581  ...  0.018252 -0.041767   \n",
       "TEST_001 -0.008829 -0.023080 -0.008041  0.016860  ... -0.025134 -0.016303   \n",
       "\n",
       "           vec_504   vec_505   vec_506   vec_507   vec_508   vec_509  \\\n",
       "id                                                                     \n",
       "TEST_000 -0.011106 -0.032668 -0.028045  0.010286  0.053333  0.019077   \n",
       "TEST_001  0.043635 -0.045904 -0.025309  0.035036 -0.005466 -0.009464   \n",
       "\n",
       "           vec_510   vec_511  \n",
       "id                            \n",
       "TEST_000  0.004254  0.030388  \n",
       "TEST_001  0.036712 -0.004162  \n",
       "\n",
       "[2 rows x 512 columns]"
      ]
     },
     "execution_count": 20,
     "metadata": {},
     "output_type": "execute_result"
    }
   ],
   "source": [
    "sub.head(2)"
   ]
  },
  {
   "cell_type": "code",
   "execution_count": 21,
   "metadata": {},
   "outputs": [],
   "source": [
    "sub.to_csv('../result/GAI-LLM-Yi-Ko-6B-mixed-v15-qlora-v1.csv')"
   ]
  },
  {
   "cell_type": "code",
   "execution_count": 33,
   "metadata": {},
   "outputs": [],
   "source": [
    "with open('../result/GAI-LLM-Yi-Ko-6B-mixed-v15-qlora-v1.txt ', 'w+') as file:\n",
    "    file.write('\\n'.join(generated_sent))"
   ]
  }
 ],
 "metadata": {
  "kernelspec": {
   "display_name": "llm",
   "language": "python",
   "name": "python3"
  },
  "language_info": {
   "codemirror_mode": {
    "name": "ipython",
    "version": 3
   },
   "file_extension": ".py",
   "mimetype": "text/x-python",
   "name": "python",
   "nbconvert_exporter": "python",
   "pygments_lexer": "ipython3",
   "version": "3.10.13"
  }
 },
 "nbformat": 4,
 "nbformat_minor": 2
}
