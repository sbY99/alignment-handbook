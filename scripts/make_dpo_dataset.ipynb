{
 "cells": [
  {
   "cell_type": "code",
   "execution_count": 1,
   "metadata": {},
   "outputs": [],
   "source": [
    "import numpy as np\n",
    "import pandas as pd\n",
    "from tqdm import tqdm"
   ]
  },
  {
   "cell_type": "code",
   "execution_count": 2,
   "metadata": {},
   "outputs": [
    {
     "name": "stderr",
     "output_type": "stream",
     "text": [
      "/home/seungbinyang/anaconda3/envs/llm/lib/python3.10/site-packages/tqdm/auto.py:21: TqdmWarning: IProgress not found. Please update jupyter and ipywidgets. See https://ipywidgets.readthedocs.io/en/stable/user_install.html\n",
      "  from .autonotebook import tqdm as notebook_tqdm\n",
      "/home/seungbinyang/anaconda3/envs/llm/lib/python3.10/site-packages/transformers/utils/generic.py:441: UserWarning: torch.utils._pytree._register_pytree_node is deprecated. Please use torch.utils._pytree.register_pytree_node instead.\n",
      "  _torch_pytree._register_pytree_node(\n",
      "/home/seungbinyang/anaconda3/envs/llm/lib/python3.10/site-packages/transformers/utils/generic.py:309: UserWarning: torch.utils._pytree._register_pytree_node is deprecated. Please use torch.utils._pytree.register_pytree_node instead.\n",
      "  _torch_pytree._register_pytree_node(\n",
      "Loading checkpoint shards: 100%|██████████| 2/2 [00:12<00:00,  6.04s/it]\n",
      "Special tokens have been added in the vocabulary, make sure the associated word embeddings are fine-tuned or trained.\n"
     ]
    }
   ],
   "source": [
    "from peft import PeftConfig, PeftModel\n",
    "from transformers import AutoModelForCausalLM, AutoTokenizer\n",
    "\n",
    "device = \"cuda\"\n",
    "\n",
    "base_model_name = \"GAI-LLM/Yi-Ko-6B-mixed-v15\"\n",
    "adapter_model_name = \"../model/GAI-LLM-Yi-Ko-6B-mixed-v15-sft-qlora-v1\"\n",
    "\n",
    "model = AutoModelForCausalLM.from_pretrained(base_model_name, device_map=\"auto\")\n",
    "model = PeftModel.from_pretrained(model, adapter_model_name)\n",
    "\n",
    "tokenizer = AutoTokenizer.from_pretrained(base_model_name)"
   ]
  },
  {
   "cell_type": "code",
   "execution_count": 20,
   "metadata": {},
   "outputs": [],
   "source": [
    "data = pd.read_csv('../data/eval_v1.csv')"
   ]
  },
  {
   "cell_type": "code",
   "execution_count": 21,
   "metadata": {},
   "outputs": [],
   "source": [
    "data = data.sample(n=2000)"
   ]
  },
  {
   "cell_type": "code",
   "execution_count": 22,
   "metadata": {},
   "outputs": [
    {
     "data": {
      "text/html": [
       "<div>\n",
       "<style scoped>\n",
       "    .dataframe tbody tr th:only-of-type {\n",
       "        vertical-align: middle;\n",
       "    }\n",
       "\n",
       "    .dataframe tbody tr th {\n",
       "        vertical-align: top;\n",
       "    }\n",
       "\n",
       "    .dataframe thead th {\n",
       "        text-align: right;\n",
       "    }\n",
       "</style>\n",
       "<table border=\"1\" class=\"dataframe\">\n",
       "  <thead>\n",
       "    <tr style=\"text-align: right;\">\n",
       "      <th></th>\n",
       "      <th>Unnamed: 0</th>\n",
       "      <th>질문</th>\n",
       "      <th>답변</th>\n",
       "    </tr>\n",
       "  </thead>\n",
       "  <tbody>\n",
       "    <tr>\n",
       "      <th>6212</th>\n",
       "      <td>136863</td>\n",
       "      <td>비닐장판의 기대수명은 얼마야?장판 견적을 계산하는 데 중요한 요소는 무엇인가요?</td>\n",
       "      <td>비닐장판의 기대수명은 10년입니다.장판 견적은 시공현장의 상태, 장판 소재, 면적 ...</td>\n",
       "    </tr>\n",
       "    <tr>\n",
       "      <th>10601</th>\n",
       "      <td>112415</td>\n",
       "      <td>인테리어에 천장 장식품을 사용하는 방법은 무엇인가요?벽에 구멍을 막는데 사용할 수 ...</td>\n",
       "      <td>천장에 모델링이나 컬러풀한 조명을 활용하여 공간에 독특하고 아름다운 분위기를 조성할...</td>\n",
       "    </tr>\n",
       "  </tbody>\n",
       "</table>\n",
       "</div>"
      ],
      "text/plain": [
       "       Unnamed: 0                                                 질문  \\\n",
       "6212       136863       비닐장판의 기대수명은 얼마야?장판 견적을 계산하는 데 중요한 요소는 무엇인가요?   \n",
       "10601      112415  인테리어에 천장 장식품을 사용하는 방법은 무엇인가요?벽에 구멍을 막는데 사용할 수 ...   \n",
       "\n",
       "                                                      답변  \n",
       "6212   비닐장판의 기대수명은 10년입니다.장판 견적은 시공현장의 상태, 장판 소재, 면적 ...  \n",
       "10601  천장에 모델링이나 컬러풀한 조명을 활용하여 공간에 독특하고 아름다운 분위기를 조성할...  "
      ]
     },
     "execution_count": 22,
     "metadata": {},
     "output_type": "execute_result"
    }
   ],
   "source": [
    "data.head(2)"
   ]
  },
  {
   "cell_type": "code",
   "execution_count": 23,
   "metadata": {},
   "outputs": [
    {
     "data": {
      "text/plain": [
       "2000"
      ]
     },
     "execution_count": 23,
     "metadata": {},
     "output_type": "execute_result"
    }
   ],
   "source": [
    "len(data)"
   ]
  },
  {
   "cell_type": "code",
   "execution_count": 24,
   "metadata": {},
   "outputs": [],
   "source": [
    "def extract_text(input_string):\n",
    "    index_t = input_string.find('<|assistant|>')\n",
    "    if index_t != -1:  \n",
    "        result = input_string[index_t + len('<|assistant|>'):]\n",
    "    else: \n",
    "        raise Exception\n",
    "    return result"
   ]
  },
  {
   "cell_type": "code",
   "execution_count": null,
   "metadata": {},
   "outputs": [],
   "source": [
    "# 2000 x 10\n",
    "questions = []\n",
    "inference_results = []\n",
    "PROMPT_TEMPLATE = '<|user|>{question}{sep_token}<|assistant|>'\n",
    "\n",
    "for i in tqdm(range(len(data))):\n",
    "    result = []\n",
    "    row = data.iloc[i]\n",
    "\n",
    "    question = row['질문']\n",
    "    answer = row['답변']\n",
    "\n",
    "    prompt = PROMPT_TEMPLATE.format(question=question,\n",
    "                                     sep_token=tokenizer.eos_token)\n",
    "    inputs = tokenizer.encode(prompt, return_tensors=\"pt\").to(device)\n",
    "    outputs = model.generate(input_ids=inputs, \n",
    "                         max_length=512, \n",
    "                         num_beams=10,\n",
    "                         repetition_penalty=1.5,\n",
    "                         diversity_penalty=0.5,\n",
    "                         num_beam_groups=5,\n",
    "                         num_return_sequences=10)\n",
    "    \n",
    "    for k in range(10):\n",
    "        response = tokenizer.decode(outputs[k], skip_special_tokens=True)\n",
    "        response = extract_text(response)\n",
    "        result.append(response)\n",
    "    \n",
    "    questions.append(question)\n",
    "    inference_results.append(result)"
   ]
  },
  {
   "cell_type": "code",
   "execution_count": 30,
   "metadata": {},
   "outputs": [
    {
     "data": {
      "text/plain": [
       "(1453, 1453)"
      ]
     },
     "execution_count": 30,
     "metadata": {},
     "output_type": "execute_result"
    }
   ],
   "source": [
    "len(questions), len(inference_results)"
   ]
  },
  {
   "cell_type": "code",
   "execution_count": 31,
   "metadata": {},
   "outputs": [],
   "source": [
    "# 모든 결과 저장\n",
    "sft_inf_results = {'data':[]}\n",
    "for q, result in zip(questions,inference_results):\n",
    "    item = {\n",
    "        'question':q,\n",
    "        'result':result\n",
    "    }\n",
    "    sft_inf_results['data'].append(item)\n",
    "\n",
    "import json\n",
    "with open(\"../data/dpo/GAI-LLM-Yi-Ko-6B-mixed-v15-qlora-v1-dpo-raw.json\", \"w\") as json_file:\n",
    "    json.dump(sft_inf_results, json_file, ensure_ascii=False, indent=4)\n"
   ]
  },
  {
   "cell_type": "markdown",
   "metadata": {},
   "source": [
    "# embedding 비교"
   ]
  },
  {
   "cell_type": "code",
   "execution_count": 35,
   "metadata": {},
   "outputs": [],
   "source": [
    "from sentence_transformers import SentenceTransformer \n",
    "\n",
    "embed_model = SentenceTransformer('distiluse-base-multilingual-cased-v1')\n",
    "embed_model =  embed_model.to(device)"
   ]
  },
  {
   "cell_type": "code",
   "execution_count": 36,
   "metadata": {},
   "outputs": [],
   "source": [
    "def cosine_similarity(a, b):\n",
    "    dot_product = np.dot(a, b)\n",
    "    norm_a = np.linalg.norm(a)\n",
    "    norm_b = np.linalg.norm(b)\n",
    "    return dot_product / (norm_a * norm_b) if norm_a != 0 and norm_b != 0 else 0"
   ]
  },
  {
   "cell_type": "code",
   "execution_count": 37,
   "metadata": {},
   "outputs": [
    {
     "name": "stderr",
     "output_type": "stream",
     "text": [
      "100%|██████████| 1453/1453 [01:28<00:00, 16.41it/s]\n"
     ]
    }
   ],
   "source": [
    "prompt = []\n",
    "chosen = []\n",
    "rejected = []\n",
    "\n",
    "for i in tqdm(range(len(inference_results))):\n",
    "    row = data.iloc[i]\n",
    "    preds = inference_results[i]\n",
    "\n",
    "    answer = row['답변']\n",
    "\n",
    "    gt_embed = embed_model.encode(answer)\n",
    "    sample_score_list = []\n",
    "\n",
    "    for pred in preds:\n",
    "        pred_embed = embed_model.encode(pred)\n",
    "        sample_score = cosine_similarity(gt_embed, pred_embed)\n",
    "        sample_score_list.append(sample_score)\n",
    "    \n",
    "    max_idx = sample_score_list.index(max(sample_score_list))\n",
    "    min_idx = sample_score_list.index(min(sample_score_list))\n",
    "    \n",
    "    prompt.append(row['질문'])\n",
    "    chosen.append(preds[max_idx])\n",
    "    rejected.append(preds[min_idx])\n"
   ]
  },
  {
   "cell_type": "code",
   "execution_count": 40,
   "metadata": {},
   "outputs": [
    {
     "data": {
      "text/html": [
       "<div>\n",
       "<style scoped>\n",
       "    .dataframe tbody tr th:only-of-type {\n",
       "        vertical-align: middle;\n",
       "    }\n",
       "\n",
       "    .dataframe tbody tr th {\n",
       "        vertical-align: top;\n",
       "    }\n",
       "\n",
       "    .dataframe thead th {\n",
       "        text-align: right;\n",
       "    }\n",
       "</style>\n",
       "<table border=\"1\" class=\"dataframe\">\n",
       "  <thead>\n",
       "    <tr style=\"text-align: right;\">\n",
       "      <th></th>\n",
       "      <th>prompt</th>\n",
       "      <th>chosen</th>\n",
       "      <th>rejected</th>\n",
       "    </tr>\n",
       "  </thead>\n",
       "  <tbody>\n",
       "    <tr>\n",
       "      <th>0</th>\n",
       "      <td>비닐장판의 기대수명은 얼마야?장판 견적을 계산하는 데 중요한 요소는 무엇인가요?</td>\n",
       "      <td>비닐장판의 기대수명은 10년입니다.장판 견적은 시공현장의 상태, 장판 소재, 면적 ...</td>\n",
       "      <td>비닐장판은 일반적으로 10년 정도의 수명을 가지고 있습니다. 그러나 사용 환경, 방...</td>\n",
       "    </tr>\n",
       "    <tr>\n",
       "      <th>1</th>\n",
       "      <td>인테리어에 천장 장식품을 사용하는 방법은 무엇인가요?벽에 구멍을 막는데 사용할 수 ...</td>\n",
       "      <td>천장 장식품을 사용하는 방법은 다양합니다. 먼저 모델링을 사용하여 천장에 장식을 부...</td>\n",
       "      <td>인테리어에 천장 장식품을 사용하는 방법은 다양합니다. 천장에 모델링이나 컬러풀한 조...</td>\n",
       "    </tr>\n",
       "    <tr>\n",
       "      <th>2</th>\n",
       "      <td>리얼징크의 단점은 뭐야?인테리어에서 창문 커버링을 선택할 때 고려해야 하는 것들은 ...</td>\n",
       "      <td>리얼징크의 가장 큰 단점은 다른 종류의 징크에 비해 수명이 짧다는 것입니다. 또한,...</td>\n",
       "      <td>시공이 부실하면 오염이 쉽게 발생할 수 있습니다.리얼징크의 가격이 다른 소재에 비해...</td>\n",
       "    </tr>\n",
       "    <tr>\n",
       "      <th>3</th>\n",
       "      <td>배관공사에 사용되는 소제구가 뭐야?벽장 부위 결로가 발생하는 주된 원인은 무엇일까요?</td>\n",
       "      <td>배관공사에 사용되는 소제구란 배수관이 막혔을때 뚫기위해 설치하는 구멍을 의미합니다....</td>\n",
       "      <td>배관공사의 일부로 배관 내부의 이물질을 제거하기 위해 사용하는 도구입니다. 이 도구...</td>\n",
       "    </tr>\n",
       "    <tr>\n",
       "      <th>4</th>\n",
       "      <td>발포우레탄폼의 장점이 뭐야?실내 조명을 선택할 때 어떤 종류의 조명을 고려해야 하나요?</td>\n",
       "      <td>발포우레탄폼은 방수에 효과적이고 단열성능이 좋다는 장점이 있습니다.실내 조명을 선택...</td>\n",
       "      <td>배관공사 시에 사용되는 소제구는 배수관이 막힐 경우 점검과 청소를 위해 설치하는 구...</td>\n",
       "    </tr>\n",
       "  </tbody>\n",
       "</table>\n",
       "</div>"
      ],
      "text/plain": [
       "                                              prompt  \\\n",
       "0       비닐장판의 기대수명은 얼마야?장판 견적을 계산하는 데 중요한 요소는 무엇인가요?   \n",
       "1  인테리어에 천장 장식품을 사용하는 방법은 무엇인가요?벽에 구멍을 막는데 사용할 수 ...   \n",
       "2  리얼징크의 단점은 뭐야?인테리어에서 창문 커버링을 선택할 때 고려해야 하는 것들은 ...   \n",
       "3    배관공사에 사용되는 소제구가 뭐야?벽장 부위 결로가 발생하는 주된 원인은 무엇일까요?   \n",
       "4   발포우레탄폼의 장점이 뭐야?실내 조명을 선택할 때 어떤 종류의 조명을 고려해야 하나요?   \n",
       "\n",
       "                                              chosen  \\\n",
       "0  비닐장판의 기대수명은 10년입니다.장판 견적은 시공현장의 상태, 장판 소재, 면적 ...   \n",
       "1  천장 장식품을 사용하는 방법은 다양합니다. 먼저 모델링을 사용하여 천장에 장식을 부...   \n",
       "2  리얼징크의 가장 큰 단점은 다른 종류의 징크에 비해 수명이 짧다는 것입니다. 또한,...   \n",
       "3  배관공사에 사용되는 소제구란 배수관이 막혔을때 뚫기위해 설치하는 구멍을 의미합니다....   \n",
       "4  발포우레탄폼은 방수에 효과적이고 단열성능이 좋다는 장점이 있습니다.실내 조명을 선택...   \n",
       "\n",
       "                                            rejected  \n",
       "0  비닐장판은 일반적으로 10년 정도의 수명을 가지고 있습니다. 그러나 사용 환경, 방...  \n",
       "1  인테리어에 천장 장식품을 사용하는 방법은 다양합니다. 천장에 모델링이나 컬러풀한 조...  \n",
       "2  시공이 부실하면 오염이 쉽게 발생할 수 있습니다.리얼징크의 가격이 다른 소재에 비해...  \n",
       "3  배관공사의 일부로 배관 내부의 이물질을 제거하기 위해 사용하는 도구입니다. 이 도구...  \n",
       "4  배관공사 시에 사용되는 소제구는 배수관이 막힐 경우 점검과 청소를 위해 설치하는 구...  "
      ]
     },
     "execution_count": 40,
     "metadata": {},
     "output_type": "execute_result"
    }
   ],
   "source": [
    "dpo_df = pd.DataFrame({\n",
    "        'prompt':prompt,\n",
    "        'chosen':chosen,\n",
    "        'rejected':rejected\n",
    "    }\n",
    ")\n",
    "dpo_df.head()"
   ]
  },
  {
   "cell_type": "code",
   "execution_count": 43,
   "metadata": {},
   "outputs": [
    {
     "name": "stdout",
     "output_type": "stream",
     "text": [
      "(1307, 3)\n"
     ]
    }
   ],
   "source": [
    "from sklearn.model_selection import train_test_split\n",
    "train_ratio = 0.9 \n",
    "train_df, dev_df = train_test_split(dpo_df, test_size=1-train_ratio, random_state=42)\n",
    "print(train_df.shape)"
   ]
  },
  {
   "cell_type": "code",
   "execution_count": 44,
   "metadata": {},
   "outputs": [],
   "source": [
    "train_df.to_csv('../data/dpo/GAI-LLM-Yi-Ko-6B-mixed-v15-qlora-v1-dpo-train.csv')\n",
    "dev_df.to_csv('../data/dpo/GAI-LLM-Yi-Ko-6B-mixed-v15-qlora-v1-dpo-eval.csv')"
   ]
  }
 ],
 "metadata": {
  "kernelspec": {
   "display_name": "llm",
   "language": "python",
   "name": "python3"
  },
  "language_info": {
   "codemirror_mode": {
    "name": "ipython",
    "version": 3
   },
   "file_extension": ".py",
   "mimetype": "text/x-python",
   "name": "python",
   "nbconvert_exporter": "python",
   "pygments_lexer": "ipython3",
   "version": "3.10.13"
  }
 },
 "nbformat": 4,
 "nbformat_minor": 2
}
