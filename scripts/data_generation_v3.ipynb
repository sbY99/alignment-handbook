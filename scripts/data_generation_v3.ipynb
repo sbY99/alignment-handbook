{
  "cells": [
    {
      "cell_type": "code",
      "execution_count": 10,
      "metadata": {
        "colab": {
          "base_uri": "https://localhost:8080/",
          "height": 1000
        },
        "id": "4-bM770_WWa1",
        "outputId": "03cc04c8-6d99-4e70-8285-328679e41eb8"
      },
      "outputs": [
        {
          "data": {
            "text/html": [
              "<div>\n",
              "<style scoped>\n",
              "    .dataframe tbody tr th:only-of-type {\n",
              "        vertical-align: middle;\n",
              "    }\n",
              "\n",
              "    .dataframe tbody tr th {\n",
              "        vertical-align: top;\n",
              "    }\n",
              "\n",
              "    .dataframe thead th {\n",
              "        text-align: right;\n",
              "    }\n",
              "</style>\n",
              "<table border=\"1\" class=\"dataframe\">\n",
              "  <thead>\n",
              "    <tr style=\"text-align: right;\">\n",
              "      <th></th>\n",
              "      <th>id</th>\n",
              "      <th>질문_1</th>\n",
              "      <th>질문_2</th>\n",
              "      <th>category</th>\n",
              "      <th>답변_1</th>\n",
              "      <th>답변_2</th>\n",
              "      <th>답변_3</th>\n",
              "      <th>답변_4</th>\n",
              "      <th>답변_5</th>\n",
              "    </tr>\n",
              "  </thead>\n",
              "  <tbody>\n",
              "    <tr>\n",
              "      <th>0</th>\n",
              "      <td>TRAIN_000</td>\n",
              "      <td>면진장치가 뭐야?</td>\n",
              "      <td>면진장치에 사용되는 주요 기술은 무엇인가요?</td>\n",
              "      <td>건축구조</td>\n",
              "      <td>면진장치란 지반에서 오는 진동 에너지를 흡수하여 건물에 주는 진동을 줄여주는 진동 ...</td>\n",
              "      <td>면진장치란 건물의 지반에서 발생하는 진동 에너지를 흡수하여 건물을 보호하고, 진동을...</td>\n",
              "      <td>면진장치란 지반으로부터 발생하는 진동 에너지를 흡수하여 건물에 전달되는 진동을 줄여...</td>\n",
              "      <td>면진장치는 건물의 지반으로부터 오는 진동 에너지를 흡수하여 건물에 전달되는 진동을 ...</td>\n",
              "      <td>면진장치는 건물에 오는 지반 진동의 영향을 최대한으로 흡수하여 건물에 전달되는 진동...</td>\n",
              "    </tr>\n",
              "    <tr>\n",
              "      <th>1</th>\n",
              "      <td>TRAIN_001</td>\n",
              "      <td>내진설계의 종류 좀 알려줘</td>\n",
              "      <td>내진설계에는 어떤 종류가 있는지 자세히 알려주실 수 있나요?</td>\n",
              "      <td>건축구조</td>\n",
              "      <td>내진 설계의 종류로 내진구조, 제진구조, 면진구조가 있습니다.</td>\n",
              "      <td>내진설계에는 내진구조, 제진구조, 면진구조가 있습니다. 내진구조는 건물 구조물이 지...</td>\n",
              "      <td>내진설계에는 주로 내진구조, 제진구조, 면진구조의 세 가지 종류가 있습니다. 이들은...</td>\n",
              "      <td>내진설계에는 주로 내진구조, 제진구조, 면진구조가 사용됩니다. 내진구조는 건물 구조...</td>\n",
              "      <td>내진 설계에는 다양한 종류가 있지만, 대표적으로 내진구조, 제진구조, 면진구조가 있...</td>\n",
              "    </tr>\n",
              "  </tbody>\n",
              "</table>\n",
              "</div>"
            ],
            "text/plain": [
              "          id            질문_1                               질문_2 category  \\\n",
              "0  TRAIN_000       면진장치가 뭐야?           면진장치에 사용되는 주요 기술은 무엇인가요?     건축구조   \n",
              "1  TRAIN_001  내진설계의 종류 좀 알려줘  내진설계에는 어떤 종류가 있는지 자세히 알려주실 수 있나요?     건축구조   \n",
              "\n",
              "                                                답변_1  \\\n",
              "0  면진장치란 지반에서 오는 진동 에너지를 흡수하여 건물에 주는 진동을 줄여주는 진동 ...   \n",
              "1                 내진 설계의 종류로 내진구조, 제진구조, 면진구조가 있습니다.   \n",
              "\n",
              "                                                답변_2  \\\n",
              "0  면진장치란 건물의 지반에서 발생하는 진동 에너지를 흡수하여 건물을 보호하고, 진동을...   \n",
              "1  내진설계에는 내진구조, 제진구조, 면진구조가 있습니다. 내진구조는 건물 구조물이 지...   \n",
              "\n",
              "                                                답변_3  \\\n",
              "0  면진장치란 지반으로부터 발생하는 진동 에너지를 흡수하여 건물에 전달되는 진동을 줄여...   \n",
              "1  내진설계에는 주로 내진구조, 제진구조, 면진구조의 세 가지 종류가 있습니다. 이들은...   \n",
              "\n",
              "                                                답변_4  \\\n",
              "0  면진장치는 건물의 지반으로부터 오는 진동 에너지를 흡수하여 건물에 전달되는 진동을 ...   \n",
              "1  내진설계에는 주로 내진구조, 제진구조, 면진구조가 사용됩니다. 내진구조는 건물 구조...   \n",
              "\n",
              "                                                답변_5  \n",
              "0  면진장치는 건물에 오는 지반 진동의 영향을 최대한으로 흡수하여 건물에 전달되는 진동...  \n",
              "1  내진 설계에는 다양한 종류가 있지만, 대표적으로 내진구조, 제진구조, 면진구조가 있...  "
            ]
          },
          "execution_count": 10,
          "metadata": {},
          "output_type": "execute_result"
        }
      ],
      "source": [
        "import pandas as pd\n",
        "import numpy as np\n",
        "train=pd.read_csv('../data/train_raw.csv')\n",
        "test=pd.read_csv('../data/test_raw.csv')\n",
        "train.head(2)"
      ]
    },
    {
      "cell_type": "code",
      "execution_count": 11,
      "metadata": {
        "colab": {
          "base_uri": "https://localhost:8080/",
          "height": 423
        },
        "id": "mg9oBxFdan9x",
        "outputId": "ee74d593-7734-451e-9759-4d34648b9a18"
      },
      "outputs": [
        {
          "data": {
            "text/html": [
              "<div>\n",
              "<style scoped>\n",
              "    .dataframe tbody tr th:only-of-type {\n",
              "        vertical-align: middle;\n",
              "    }\n",
              "\n",
              "    .dataframe tbody tr th {\n",
              "        vertical-align: top;\n",
              "    }\n",
              "\n",
              "    .dataframe thead th {\n",
              "        text-align: right;\n",
              "    }\n",
              "</style>\n",
              "<table border=\"1\" class=\"dataframe\">\n",
              "  <thead>\n",
              "    <tr style=\"text-align: right;\">\n",
              "      <th></th>\n",
              "      <th>질문</th>\n",
              "      <th>답변</th>\n",
              "    </tr>\n",
              "  </thead>\n",
              "  <tbody>\n",
              "    <tr>\n",
              "      <th>0</th>\n",
              "      <td>면진장치가 뭐야?</td>\n",
              "      <td>면진장치란 지반에서 오는 진동 에너지를 흡수하여 건물에 주는 진동을 줄여주는 진동 ...</td>\n",
              "    </tr>\n",
              "    <tr>\n",
              "      <th>1</th>\n",
              "      <td>내진설계의 종류 좀 알려줘</td>\n",
              "      <td>내진 설계의 종류로 내진구조, 제진구조, 면진구조가 있습니다.</td>\n",
              "    </tr>\n",
              "    <tr>\n",
              "      <th>2</th>\n",
              "      <td>철골구조의 장점이 뭐야?</td>\n",
              "      <td>철골구조는 건물의 외벽에는 그다지 하중이 걸리지 않기 때문에 고층 건물의 건축이 가...</td>\n",
              "    </tr>\n",
              "    <tr>\n",
              "      <th>3</th>\n",
              "      <td>철골철근 콘크리트 구조가 뭐야?</td>\n",
              "      <td>철근철골콘크리트는 철골과 철근, 그리고 콘크리트를 함께 사용하는 건축 구조입니다. ...</td>\n",
              "    </tr>\n",
              "    <tr>\n",
              "      <th>4</th>\n",
              "      <td>철골구조는 어떤 방식이 있어?</td>\n",
              "      <td>철골구조는 일반철골구조와 경량철골구조가 있습니다.</td>\n",
              "    </tr>\n",
              "    <tr>\n",
              "      <th>...</th>\n",
              "      <td>...</td>\n",
              "      <td>...</td>\n",
              "    </tr>\n",
              "    <tr>\n",
              "      <th>6435</th>\n",
              "      <td>벽장 부위 결로가 발생하는 주된 원인은 무엇일까요?</td>\n",
              "      <td>벽장 부위 결로의 주된 원인은 충분한 환기가 이루어지지 않는 환경과 과도한 습기가 ...</td>\n",
              "    </tr>\n",
              "    <tr>\n",
              "      <th>6436</th>\n",
              "      <td>벽체 결로가 AD나 PD에 면한다면 그 원인이 무엇인가요?</td>\n",
              "      <td>AD, PD에 면한 벽체 결로의 원인으로는 외부 공기에 노출된 벽면이 실내보다 냉각...</td>\n",
              "    </tr>\n",
              "    <tr>\n",
              "      <th>6437</th>\n",
              "      <td>외벽 모서리 부위에 결로가 발생하는 것을 예방하는 방법이 있을까요?</td>\n",
              "      <td>외벽 모서리 부위에 결로가 발생하는 주요 원인은 높은 온도차입니다. 외벽 모서리는 ...</td>\n",
              "    </tr>\n",
              "    <tr>\n",
              "      <th>6438</th>\n",
              "      <td>창호 결로를 해결하기 위한 가장 효과적인 방법은 무엇인가요?</td>\n",
              "      <td>창호 결로를 방지하기 위한 대책으로는 KS에 규정된 프레임을 사용하고, 열관류율 및...</td>\n",
              "    </tr>\n",
              "    <tr>\n",
              "      <th>6439</th>\n",
              "      <td>AD, PD에 면한 벽체 결로에 대한 대책은 어떤 것이 있나요?</td>\n",
              "      <td>AD, PD에 면한 벽체의 결로에 대한 대책으로는 단열재를 미실하게 시공하여 결로가...</td>\n",
              "    </tr>\n",
              "  </tbody>\n",
              "</table>\n",
              "<p>6440 rows × 2 columns</p>\n",
              "</div>"
            ],
            "text/plain": [
              "                                         질문  \\\n",
              "0                                 면진장치가 뭐야?   \n",
              "1                            내진설계의 종류 좀 알려줘   \n",
              "2                             철골구조의 장점이 뭐야?   \n",
              "3                         철골철근 콘크리트 구조가 뭐야?   \n",
              "4                          철골구조는 어떤 방식이 있어?   \n",
              "...                                     ...   \n",
              "6435           벽장 부위 결로가 발생하는 주된 원인은 무엇일까요?   \n",
              "6436       벽체 결로가 AD나 PD에 면한다면 그 원인이 무엇인가요?   \n",
              "6437  외벽 모서리 부위에 결로가 발생하는 것을 예방하는 방법이 있을까요?   \n",
              "6438      창호 결로를 해결하기 위한 가장 효과적인 방법은 무엇인가요?   \n",
              "6439    AD, PD에 면한 벽체 결로에 대한 대책은 어떤 것이 있나요?   \n",
              "\n",
              "                                                     답변  \n",
              "0     면진장치란 지반에서 오는 진동 에너지를 흡수하여 건물에 주는 진동을 줄여주는 진동 ...  \n",
              "1                    내진 설계의 종류로 내진구조, 제진구조, 면진구조가 있습니다.  \n",
              "2     철골구조는 건물의 외벽에는 그다지 하중이 걸리지 않기 때문에 고층 건물의 건축이 가...  \n",
              "3     철근철골콘크리트는 철골과 철근, 그리고 콘크리트를 함께 사용하는 건축 구조입니다. ...  \n",
              "4                           철골구조는 일반철골구조와 경량철골구조가 있습니다.  \n",
              "...                                                 ...  \n",
              "6435  벽장 부위 결로의 주된 원인은 충분한 환기가 이루어지지 않는 환경과 과도한 습기가 ...  \n",
              "6436  AD, PD에 면한 벽체 결로의 원인으로는 외부 공기에 노출된 벽면이 실내보다 냉각...  \n",
              "6437  외벽 모서리 부위에 결로가 발생하는 주요 원인은 높은 온도차입니다. 외벽 모서리는 ...  \n",
              "6438  창호 결로를 방지하기 위한 대책으로는 KS에 규정된 프레임을 사용하고, 열관류율 및...  \n",
              "6439  AD, PD에 면한 벽체의 결로에 대한 대책으로는 단열재를 미실하게 시공하여 결로가...  \n",
              "\n",
              "[6440 rows x 2 columns]"
            ]
          },
          "execution_count": 11,
          "metadata": {},
          "output_type": "execute_result"
        }
      ],
      "source": [
        "reshaped_df = pd.DataFrame({\n",
        "    '질문': pd.concat([train['질문_1']] * 5 + [train['질문_2']] * 5).reset_index(drop=True),\n",
        "    '답변': pd.concat([train['답변_1'], train['답변_2'] ,train['답변_3'], train['답변_4'],train['답변_5']]*2).reset_index(drop=True)\n",
        "})\n",
        "reshaped_df"
      ]
    },
    {
      "cell_type": "code",
      "execution_count": 12,
      "metadata": {
        "id": "v5ZSjYfopyzQ"
      },
      "outputs": [],
      "source": [
        "train= reshaped_df"
      ]
    },
    {
      "cell_type": "code",
      "execution_count": 13,
      "metadata": {},
      "outputs": [
        {
          "data": {
            "text/plain": [
              "6440"
            ]
          },
          "execution_count": 13,
          "metadata": {},
          "output_type": "execute_result"
        }
      ],
      "source": [
        "len(train)"
      ]
    },
    {
      "cell_type": "code",
      "execution_count": 15,
      "metadata": {
        "colab": {
          "base_uri": "https://localhost:8080/",
          "height": 597
        },
        "id": "EGSf870CAsf_",
        "outputId": "47ea2861-e572-47ba-9dc7-747f5bce9fd8"
      },
      "outputs": [
        {
          "data": {
            "text/html": [
              "<div>\n",
              "<style scoped>\n",
              "    .dataframe tbody tr th:only-of-type {\n",
              "        vertical-align: middle;\n",
              "    }\n",
              "\n",
              "    .dataframe tbody tr th {\n",
              "        vertical-align: top;\n",
              "    }\n",
              "\n",
              "    .dataframe thead th {\n",
              "        text-align: right;\n",
              "    }\n",
              "</style>\n",
              "<table border=\"1\" class=\"dataframe\">\n",
              "  <thead>\n",
              "    <tr style=\"text-align: right;\">\n",
              "      <th></th>\n",
              "      <th>질문</th>\n",
              "      <th>답변</th>\n",
              "    </tr>\n",
              "  </thead>\n",
              "  <tbody>\n",
              "    <tr>\n",
              "      <th>0</th>\n",
              "      <td>어떻게 복도를 표현적인 공간으로 만들 수 있을까요?KMEW 세라믹 지붕재의 단점은 ...</td>\n",
              "      <td>복도를 표현적인 공간으로 만들려면 벽면 예술, 조명, 그리고 선명한 패턴을 추가하세...</td>\n",
              "    </tr>\n",
              "    <tr>\n",
              "      <th>1</th>\n",
              "      <td>리얼징크가 뭐야?기존 벽지를 제거하지 않고 도배하는 것이 좋은 방법일까요?</td>\n",
              "      <td>컬러강판을 리얼징크라하며 겉보기엔 오리지널징크처럼 보이지만 철판에 부식을 방지하기 ...</td>\n",
              "    </tr>\n",
              "    <tr>\n",
              "      <th>2</th>\n",
              "      <td>높은 습도로 인해 몰딩수정이 발생할 수 있어?철골구조의 장점을 알려줘</td>\n",
              "      <td>고습도 환경에서 몰딩 소재가 팽창하거나 수축하여 변형될 수 있는데, 이는 습기가 몰...</td>\n",
              "    </tr>\n",
              "    <tr>\n",
              "      <th>3</th>\n",
              "      <td>페인트 중도재가 뭐야?발코니 부위 결로의 대책은 뭐야?</td>\n",
              "      <td>페인트 중도재는 하도재와 상도재 사이에 칠하는 재료를 말합니다. 이러한 중도재는 하...</td>\n",
              "    </tr>\n",
              "    <tr>\n",
              "      <th>4</th>\n",
              "      <td>철골구조는 어떤 방식이 있어?철골구조의 다양한 방식이 무엇인가요?</td>\n",
              "      <td>철골구조는 주로 일반철골구조와 경량철골구조로 나뉘어집니다. 이들은 건축 시스템에 따...</td>\n",
              "    </tr>\n",
              "    <tr>\n",
              "      <th>...</th>\n",
              "      <td>...</td>\n",
              "      <td>...</td>\n",
              "    </tr>\n",
              "    <tr>\n",
              "      <th>399995</th>\n",
              "      <td>조적식 구조가 뭐야?욕실 리모델링을 계획 중입니다. 어떤 샤워 헤드와 수도꼭지를 선...</td>\n",
              "      <td>조적식 구조는 벽돌이나 콘크리트 블록을 모르타르로 쌓아 만드는 건축 구조를 말합니다...</td>\n",
              "    </tr>\n",
              "    <tr>\n",
              "      <th>399996</th>\n",
              "      <td>부주의한 시공으로 인해 도배지 패턴이 이어지지 않을 수 있어?미니멀리즘 스타일을 살...</td>\n",
              "      <td>부주의한 시공으로 도배지의 무늬 패턴이 이어지지 않을 수 있습니다. 도배 작업을 할...</td>\n",
              "    </tr>\n",
              "    <tr>\n",
              "      <th>399997</th>\n",
              "      <td>방청페인트 시공방법이 뭐야?비드법 보온판 2종의 어떤 단점들이 있는지 알려주세요.</td>\n",
              "      <td>방청페인트의 시공방법은 피도면 정리, 방청도료 도장, 상도작업 순으로 진행됩니다. ...</td>\n",
              "    </tr>\n",
              "    <tr>\n",
              "      <th>399998</th>\n",
              "      <td>모노크롬 디자인을 활용하여 공간을 꾸밀 때 주의할 점은 무엇인가요?외단열을 시공했을...</td>\n",
              "      <td>모노크롬 디자인을 사용할 때에는 주의해야 할 몇 가지 사항이 있습니다. 먼저, 색상...</td>\n",
              "    </tr>\n",
              "    <tr>\n",
              "      <th>399999</th>\n",
              "      <td>어떻게 중키친을 효과적으로 디자인할 수 있을까요?목재 마감재를 처리하는데 가장 효과...</td>\n",
              "      <td>중키친을 효과적으로 디자인하기 위해 대형 작업대, 스토리지, 그리고 잘 조직된 공간...</td>\n",
              "    </tr>\n",
              "  </tbody>\n",
              "</table>\n",
              "<p>400000 rows × 2 columns</p>\n",
              "</div>"
            ],
            "text/plain": [
              "                                                       질문  \\\n",
              "0       어떻게 복도를 표현적인 공간으로 만들 수 있을까요?KMEW 세라믹 지붕재의 단점은 ...   \n",
              "1               리얼징크가 뭐야?기존 벽지를 제거하지 않고 도배하는 것이 좋은 방법일까요?   \n",
              "2                  높은 습도로 인해 몰딩수정이 발생할 수 있어?철골구조의 장점을 알려줘   \n",
              "3                          페인트 중도재가 뭐야?발코니 부위 결로의 대책은 뭐야?   \n",
              "4                    철골구조는 어떤 방식이 있어?철골구조의 다양한 방식이 무엇인가요?   \n",
              "...                                                   ...   \n",
              "399995  조적식 구조가 뭐야?욕실 리모델링을 계획 중입니다. 어떤 샤워 헤드와 수도꼭지를 선...   \n",
              "399996  부주의한 시공으로 인해 도배지 패턴이 이어지지 않을 수 있어?미니멀리즘 스타일을 살...   \n",
              "399997      방청페인트 시공방법이 뭐야?비드법 보온판 2종의 어떤 단점들이 있는지 알려주세요.   \n",
              "399998  모노크롬 디자인을 활용하여 공간을 꾸밀 때 주의할 점은 무엇인가요?외단열을 시공했을...   \n",
              "399999  어떻게 중키친을 효과적으로 디자인할 수 있을까요?목재 마감재를 처리하는데 가장 효과...   \n",
              "\n",
              "                                                       답변  \n",
              "0       복도를 표현적인 공간으로 만들려면 벽면 예술, 조명, 그리고 선명한 패턴을 추가하세...  \n",
              "1       컬러강판을 리얼징크라하며 겉보기엔 오리지널징크처럼 보이지만 철판에 부식을 방지하기 ...  \n",
              "2       고습도 환경에서 몰딩 소재가 팽창하거나 수축하여 변형될 수 있는데, 이는 습기가 몰...  \n",
              "3       페인트 중도재는 하도재와 상도재 사이에 칠하는 재료를 말합니다. 이러한 중도재는 하...  \n",
              "4       철골구조는 주로 일반철골구조와 경량철골구조로 나뉘어집니다. 이들은 건축 시스템에 따...  \n",
              "...                                                   ...  \n",
              "399995  조적식 구조는 벽돌이나 콘크리트 블록을 모르타르로 쌓아 만드는 건축 구조를 말합니다...  \n",
              "399996  부주의한 시공으로 도배지의 무늬 패턴이 이어지지 않을 수 있습니다. 도배 작업을 할...  \n",
              "399997  방청페인트의 시공방법은 피도면 정리, 방청도료 도장, 상도작업 순으로 진행됩니다. ...  \n",
              "399998  모노크롬 디자인을 사용할 때에는 주의해야 할 몇 가지 사항이 있습니다. 먼저, 색상...  \n",
              "399999  중키친을 효과적으로 디자인하기 위해 대형 작업대, 스토리지, 그리고 잘 조직된 공간...  \n",
              "\n",
              "[400000 rows x 2 columns]"
            ]
          },
          "execution_count": 15,
          "metadata": {},
          "output_type": "execute_result"
        }
      ],
      "source": [
        "import pandas as pd\n",
        "from itertools import combinations\n",
        "import random\n",
        "\n",
        "random.seed(42)\n",
        "\n",
        "# 질문과 답변을 조합하여 새로운 리스트 생성\n",
        "combined_questions = [''.join(comb) for comb in combinations(train['질문'], 2)]\n",
        "combined_answers = [''.join(comb) for comb in combinations(train['답변'], 2)]\n",
        "\n",
        "# 랜덤하게  행 선택\n",
        "random_indices = random.sample(range(len(combined_questions)), 400000)\n",
        "selected_questions = [combined_questions[i] for i in random_indices]\n",
        "selected_answers = [combined_answers[i] for i in random_indices]\n",
        "\n",
        "# 새로운 데이터 딕셔너리 생성\n",
        "new_data = {'질문': selected_questions, '답변': selected_answers}\n",
        "\n",
        "# 데이터프레임 생성\n",
        "df = pd.DataFrame(new_data)\n",
        "\n",
        "df"
      ]
    },
    {
      "cell_type": "code",
      "execution_count": 16,
      "metadata": {},
      "outputs": [
        {
          "name": "stdout",
          "output_type": "stream",
          "text": [
            "(406440, 2)\n"
          ]
        },
        {
          "data": {
            "text/html": [
              "<div>\n",
              "<style scoped>\n",
              "    .dataframe tbody tr th:only-of-type {\n",
              "        vertical-align: middle;\n",
              "    }\n",
              "\n",
              "    .dataframe tbody tr th {\n",
              "        vertical-align: top;\n",
              "    }\n",
              "\n",
              "    .dataframe thead th {\n",
              "        text-align: right;\n",
              "    }\n",
              "</style>\n",
              "<table border=\"1\" class=\"dataframe\">\n",
              "  <thead>\n",
              "    <tr style=\"text-align: right;\">\n",
              "      <th></th>\n",
              "      <th>질문</th>\n",
              "      <th>답변</th>\n",
              "    </tr>\n",
              "  </thead>\n",
              "  <tbody>\n",
              "    <tr>\n",
              "      <th>0</th>\n",
              "      <td>면진장치가 뭐야?</td>\n",
              "      <td>면진장치란 지반에서 오는 진동 에너지를 흡수하여 건물에 주는 진동을 줄여주는 진동 ...</td>\n",
              "    </tr>\n",
              "    <tr>\n",
              "      <th>1</th>\n",
              "      <td>내진설계의 종류 좀 알려줘</td>\n",
              "      <td>내진 설계의 종류로 내진구조, 제진구조, 면진구조가 있습니다.</td>\n",
              "    </tr>\n",
              "    <tr>\n",
              "      <th>2</th>\n",
              "      <td>철골구조의 장점이 뭐야?</td>\n",
              "      <td>철골구조는 건물의 외벽에는 그다지 하중이 걸리지 않기 때문에 고층 건물의 건축이 가...</td>\n",
              "    </tr>\n",
              "    <tr>\n",
              "      <th>3</th>\n",
              "      <td>철골철근 콘크리트 구조가 뭐야?</td>\n",
              "      <td>철근철골콘크리트는 철골과 철근, 그리고 콘크리트를 함께 사용하는 건축 구조입니다. ...</td>\n",
              "    </tr>\n",
              "    <tr>\n",
              "      <th>4</th>\n",
              "      <td>철골구조는 어떤 방식이 있어?</td>\n",
              "      <td>철골구조는 일반철골구조와 경량철골구조가 있습니다.</td>\n",
              "    </tr>\n",
              "  </tbody>\n",
              "</table>\n",
              "</div>"
            ],
            "text/plain": [
              "                  질문                                                 답변\n",
              "0          면진장치가 뭐야?  면진장치란 지반에서 오는 진동 에너지를 흡수하여 건물에 주는 진동을 줄여주는 진동 ...\n",
              "1     내진설계의 종류 좀 알려줘                 내진 설계의 종류로 내진구조, 제진구조, 면진구조가 있습니다.\n",
              "2      철골구조의 장점이 뭐야?  철골구조는 건물의 외벽에는 그다지 하중이 걸리지 않기 때문에 고층 건물의 건축이 가...\n",
              "3  철골철근 콘크리트 구조가 뭐야?  철근철골콘크리트는 철골과 철근, 그리고 콘크리트를 함께 사용하는 건축 구조입니다. ...\n",
              "4   철골구조는 어떤 방식이 있어?                        철골구조는 일반철골구조와 경량철골구조가 있습니다."
            ]
          },
          "execution_count": 16,
          "metadata": {},
          "output_type": "execute_result"
        }
      ],
      "source": [
        "df = pd.concat((train, df))\n",
        "print(df.shape)\n",
        "df.head()"
      ]
    },
    {
      "cell_type": "code",
      "execution_count": 18,
      "metadata": {
        "colab": {
          "base_uri": "https://localhost:8080/"
        },
        "id": "GSkhwrVrChTh",
        "outputId": "68085723-f647-4313-f58e-d47c0fb5bcd4"
      },
      "outputs": [
        {
          "name": "stdout",
          "output_type": "stream",
          "text": [
            "(386117, 2)\n"
          ]
        }
      ],
      "source": [
        "from sklearn.model_selection import train_test_split\n",
        "train_ratio = 0.95  # 예시로 95%를 train 데이터로 사용\n",
        "train_df, dev_df = train_test_split(df, test_size=1-train_ratio, random_state=42)\n",
        "print(train_df.shape)"
      ]
    },
    {
      "cell_type": "code",
      "execution_count": 9,
      "metadata": {
        "id": "q8nMEKQECnRJ"
      },
      "outputs": [],
      "source": [
        "train_df.to_csv('../data/train_v3.csv')\n",
        "dev_df.to_csv('../data/eval_v3.csv')"
      ]
    }
  ],
  "metadata": {
    "colab": {
      "history_visible": true,
      "provenance": []
    },
    "kernelspec": {
      "display_name": "Python 3",
      "name": "python3"
    },
    "language_info": {
      "codemirror_mode": {
        "name": "ipython",
        "version": 3
      },
      "file_extension": ".py",
      "mimetype": "text/x-python",
      "name": "python",
      "nbconvert_exporter": "python",
      "pygments_lexer": "ipython3",
      "version": "3.10.13"
    }
  },
  "nbformat": 4,
  "nbformat_minor": 0
}
