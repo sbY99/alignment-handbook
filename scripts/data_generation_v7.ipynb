{
 "cells": [
  {
   "cell_type": "code",
   "execution_count": 1,
   "metadata": {},
   "outputs": [],
   "source": [
    "import pandas as pd\n",
    "import itertools\n",
    "import random\n",
    "from sklearn.model_selection import train_test_split"
   ]
  },
  {
   "cell_type": "code",
   "execution_count": 2,
   "metadata": {},
   "outputs": [
    {
     "name": "stdout",
     "output_type": "stream",
     "text": [
      "(644, 9)\n"
     ]
    }
   ],
   "source": [
    "train = pd.read_csv('../data/train_raw.csv')\n",
    "print(train.shape)"
   ]
  },
  {
   "cell_type": "code",
   "execution_count": 3,
   "metadata": {},
   "outputs": [
    {
     "data": {
      "text/plain": [
       "(6440, 2)"
      ]
     },
     "execution_count": 3,
     "metadata": {},
     "output_type": "execute_result"
    }
   ],
   "source": [
    "reshaped_df = pd.DataFrame({\n",
    "    '질문': pd.concat([train['질문_1']] * 5 + [train['질문_2']] * 5).reset_index(drop=True),\n",
    "    '답변': pd.concat([train['답변_1'], train['답변_2'] ,train['답변_3'], train['답변_4'],train['답변_5']]*2).reset_index(drop=True)\n",
    "})\n",
    "reshaped_df.shape"
   ]
  },
  {
   "cell_type": "code",
   "execution_count": 4,
   "metadata": {},
   "outputs": [
    {
     "data": {
      "text/plain": [
       "(212960, 2)"
      ]
     },
     "execution_count": 4,
     "metadata": {},
     "output_type": "execute_result"
    }
   ],
   "source": [
    "# 같은 카테고리 안에서 질문 2개&그에 따른 답변 2개씩 조합\n",
    "setlist = []\n",
    "\n",
    "random.seed(0)\n",
    "qs = ['질문_1', '질문_2']\n",
    "categories = train['category'].unique()\n",
    "\n",
    "# 1. 카테고리별로 질문 2개씩 조합\n",
    "for category in categories:\n",
    "    category_idx = train[train['category'] == category]['id']\n",
    "    # 2. row 2개씩 조합\n",
    "    question_combinations = list(itertools.combinations(category_idx, 2))\n",
    "    lens = len(question_combinations)\n",
    "\n",
    "    for idx, (i,j) in enumerate(question_combinations):\n",
    "        # 3. 질문 2개에 대한 답변 2개씩 조합\n",
    "        for qi1, qi2 in itertools.product(qs, qs):\n",
    "            q1 = train[train['id'] == i][qi1].values[0]\n",
    "            q2 = train[train['id'] == j][qi2].values[0]\n",
    "            a1 = train[train['id'] == i]['답변_2'].values[0]\n",
    "            a2 = train[train['id'] == j]['답변_2'].values[0]\n",
    "            setlist.append(pd.DataFrame({'질문': [q1+q2], '답변': [a1+a2]}))\n",
    "        \n",
    "        \n",
    "trainset = pd.concat(setlist).reset_index(drop=True)\n",
    "trainset.shape"
   ]
  },
  {
   "cell_type": "code",
   "execution_count": 5,
   "metadata": {},
   "outputs": [
    {
     "name": "stdout",
     "output_type": "stream",
     "text": [
      "(219400, 2)\n"
     ]
    }
   ],
   "source": [
    "dataset_v7 = pd.concat([reshaped_df, trainset])\n",
    "print(dataset_v7.shape)"
   ]
  },
  {
   "cell_type": "code",
   "execution_count": 6,
   "metadata": {},
   "outputs": [
    {
     "data": {
      "text/html": [
       "<div>\n",
       "<style scoped>\n",
       "    .dataframe tbody tr th:only-of-type {\n",
       "        vertical-align: middle;\n",
       "    }\n",
       "\n",
       "    .dataframe tbody tr th {\n",
       "        vertical-align: top;\n",
       "    }\n",
       "\n",
       "    .dataframe thead th {\n",
       "        text-align: right;\n",
       "    }\n",
       "</style>\n",
       "<table border=\"1\" class=\"dataframe\">\n",
       "  <thead>\n",
       "    <tr style=\"text-align: right;\">\n",
       "      <th></th>\n",
       "      <th>질문</th>\n",
       "      <th>답변</th>\n",
       "    </tr>\n",
       "  </thead>\n",
       "  <tbody>\n",
       "    <tr>\n",
       "      <th>0</th>\n",
       "      <td>면진장치가 뭐야?</td>\n",
       "      <td>면진장치란 지반에서 오는 진동 에너지를 흡수하여 건물에 주는 진동을 줄여주는 진동 ...</td>\n",
       "    </tr>\n",
       "    <tr>\n",
       "      <th>1</th>\n",
       "      <td>내진설계의 종류 좀 알려줘</td>\n",
       "      <td>내진 설계의 종류로 내진구조, 제진구조, 면진구조가 있습니다.</td>\n",
       "    </tr>\n",
       "    <tr>\n",
       "      <th>2</th>\n",
       "      <td>철골구조의 장점이 뭐야?</td>\n",
       "      <td>철골구조는 건물의 외벽에는 그다지 하중이 걸리지 않기 때문에 고층 건물의 건축이 가...</td>\n",
       "    </tr>\n",
       "    <tr>\n",
       "      <th>3</th>\n",
       "      <td>철골철근 콘크리트 구조가 뭐야?</td>\n",
       "      <td>철근철골콘크리트는 철골과 철근, 그리고 콘크리트를 함께 사용하는 건축 구조입니다. ...</td>\n",
       "    </tr>\n",
       "    <tr>\n",
       "      <th>4</th>\n",
       "      <td>철골구조는 어떤 방식이 있어?</td>\n",
       "      <td>철골구조는 일반철골구조와 경량철골구조가 있습니다.</td>\n",
       "    </tr>\n",
       "  </tbody>\n",
       "</table>\n",
       "</div>"
      ],
      "text/plain": [
       "                  질문                                                 답변\n",
       "0          면진장치가 뭐야?  면진장치란 지반에서 오는 진동 에너지를 흡수하여 건물에 주는 진동을 줄여주는 진동 ...\n",
       "1     내진설계의 종류 좀 알려줘                 내진 설계의 종류로 내진구조, 제진구조, 면진구조가 있습니다.\n",
       "2      철골구조의 장점이 뭐야?  철골구조는 건물의 외벽에는 그다지 하중이 걸리지 않기 때문에 고층 건물의 건축이 가...\n",
       "3  철골철근 콘크리트 구조가 뭐야?  철근철골콘크리트는 철골과 철근, 그리고 콘크리트를 함께 사용하는 건축 구조입니다. ...\n",
       "4   철골구조는 어떤 방식이 있어?                        철골구조는 일반철골구조와 경량철골구조가 있습니다."
      ]
     },
     "execution_count": 6,
     "metadata": {},
     "output_type": "execute_result"
    }
   ],
   "source": [
    "dataset_v7.head()"
   ]
  },
  {
   "cell_type": "code",
   "execution_count": 7,
   "metadata": {},
   "outputs": [
    {
     "name": "stdout",
     "output_type": "stream",
     "text": [
      "(208429, 2)\n"
     ]
    }
   ],
   "source": [
    "from sklearn.model_selection import train_test_split\n",
    "train_ratio = 0.95  # 예시로 95%를 train 데이터로 사용\n",
    "train_df, dev_df = train_test_split(dataset_v7, test_size=1-train_ratio, random_state=42)\n",
    "print(train_df.shape)"
   ]
  },
  {
   "cell_type": "code",
   "execution_count": 8,
   "metadata": {},
   "outputs": [],
   "source": [
    "train_df.to_csv('../data/train_v7.csv')\n",
    "dev_df.to_csv('../data/eval_v7.csv')"
   ]
  }
 ],
 "metadata": {
  "kernelspec": {
   "display_name": "llm",
   "language": "python",
   "name": "python3"
  },
  "language_info": {
   "codemirror_mode": {
    "name": "ipython",
    "version": 3
   },
   "file_extension": ".py",
   "mimetype": "text/x-python",
   "name": "python",
   "nbconvert_exporter": "python",
   "pygments_lexer": "ipython3",
   "version": "3.10.13"
  }
 },
 "nbformat": 4,
 "nbformat_minor": 2
}
