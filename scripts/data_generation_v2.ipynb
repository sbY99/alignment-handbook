{
 "cells": [
  {
   "cell_type": "code",
   "execution_count": 1,
   "metadata": {},
   "outputs": [
    {
     "data": {
      "text/html": [
       "<div>\n",
       "<style scoped>\n",
       "    .dataframe tbody tr th:only-of-type {\n",
       "        vertical-align: middle;\n",
       "    }\n",
       "\n",
       "    .dataframe tbody tr th {\n",
       "        vertical-align: top;\n",
       "    }\n",
       "\n",
       "    .dataframe thead th {\n",
       "        text-align: right;\n",
       "    }\n",
       "</style>\n",
       "<table border=\"1\" class=\"dataframe\">\n",
       "  <thead>\n",
       "    <tr style=\"text-align: right;\">\n",
       "      <th></th>\n",
       "      <th>id</th>\n",
       "      <th>질문_1</th>\n",
       "      <th>질문_2</th>\n",
       "      <th>category</th>\n",
       "      <th>답변_1</th>\n",
       "      <th>답변_2</th>\n",
       "      <th>답변_3</th>\n",
       "      <th>답변_4</th>\n",
       "      <th>답변_5</th>\n",
       "    </tr>\n",
       "  </thead>\n",
       "  <tbody>\n",
       "    <tr>\n",
       "      <th>0</th>\n",
       "      <td>TRAIN_000</td>\n",
       "      <td>면진장치가 뭐야?</td>\n",
       "      <td>면진장치에 사용되는 주요 기술은 무엇인가요?</td>\n",
       "      <td>건축구조</td>\n",
       "      <td>면진장치란 지반에서 오는 진동 에너지를 흡수하여 건물에 주는 진동을 줄여주는 진동 ...</td>\n",
       "      <td>면진장치란 건물의 지반에서 발생하는 진동 에너지를 흡수하여 건물을 보호하고, 진동을...</td>\n",
       "      <td>면진장치란 지반으로부터 발생하는 진동 에너지를 흡수하여 건물에 전달되는 진동을 줄여...</td>\n",
       "      <td>면진장치는 건물의 지반으로부터 오는 진동 에너지를 흡수하여 건물에 전달되는 진동을 ...</td>\n",
       "      <td>면진장치는 건물에 오는 지반 진동의 영향을 최대한으로 흡수하여 건물에 전달되는 진동...</td>\n",
       "    </tr>\n",
       "    <tr>\n",
       "      <th>1</th>\n",
       "      <td>TRAIN_001</td>\n",
       "      <td>내진설계의 종류 좀 알려줘</td>\n",
       "      <td>내진설계에는 어떤 종류가 있는지 자세히 알려주실 수 있나요?</td>\n",
       "      <td>건축구조</td>\n",
       "      <td>내진 설계의 종류로 내진구조, 제진구조, 면진구조가 있습니다.</td>\n",
       "      <td>내진설계에는 내진구조, 제진구조, 면진구조가 있습니다. 내진구조는 건물 구조물이 지...</td>\n",
       "      <td>내진설계에는 주로 내진구조, 제진구조, 면진구조의 세 가지 종류가 있습니다. 이들은...</td>\n",
       "      <td>내진설계에는 주로 내진구조, 제진구조, 면진구조가 사용됩니다. 내진구조는 건물 구조...</td>\n",
       "      <td>내진 설계에는 다양한 종류가 있지만, 대표적으로 내진구조, 제진구조, 면진구조가 있...</td>\n",
       "    </tr>\n",
       "  </tbody>\n",
       "</table>\n",
       "</div>"
      ],
      "text/plain": [
       "          id            질문_1                               질문_2 category  \\\n",
       "0  TRAIN_000       면진장치가 뭐야?           면진장치에 사용되는 주요 기술은 무엇인가요?     건축구조   \n",
       "1  TRAIN_001  내진설계의 종류 좀 알려줘  내진설계에는 어떤 종류가 있는지 자세히 알려주실 수 있나요?     건축구조   \n",
       "\n",
       "                                                답변_1  \\\n",
       "0  면진장치란 지반에서 오는 진동 에너지를 흡수하여 건물에 주는 진동을 줄여주는 진동 ...   \n",
       "1                 내진 설계의 종류로 내진구조, 제진구조, 면진구조가 있습니다.   \n",
       "\n",
       "                                                답변_2  \\\n",
       "0  면진장치란 건물의 지반에서 발생하는 진동 에너지를 흡수하여 건물을 보호하고, 진동을...   \n",
       "1  내진설계에는 내진구조, 제진구조, 면진구조가 있습니다. 내진구조는 건물 구조물이 지...   \n",
       "\n",
       "                                                답변_3  \\\n",
       "0  면진장치란 지반으로부터 발생하는 진동 에너지를 흡수하여 건물에 전달되는 진동을 줄여...   \n",
       "1  내진설계에는 주로 내진구조, 제진구조, 면진구조의 세 가지 종류가 있습니다. 이들은...   \n",
       "\n",
       "                                                답변_4  \\\n",
       "0  면진장치는 건물의 지반으로부터 오는 진동 에너지를 흡수하여 건물에 전달되는 진동을 ...   \n",
       "1  내진설계에는 주로 내진구조, 제진구조, 면진구조가 사용됩니다. 내진구조는 건물 구조...   \n",
       "\n",
       "                                                답변_5  \n",
       "0  면진장치는 건물에 오는 지반 진동의 영향을 최대한으로 흡수하여 건물에 전달되는 진동...  \n",
       "1  내진 설계에는 다양한 종류가 있지만, 대표적으로 내진구조, 제진구조, 면진구조가 있...  "
      ]
     },
     "execution_count": 1,
     "metadata": {},
     "output_type": "execute_result"
    }
   ],
   "source": [
    "import pandas as pd\n",
    "import numpy as np\n",
    "train=pd.read_csv('../data/train_raw.csv')\n",
    "test=pd.read_csv('../data/test_raw.csv')\n",
    "train.head(2)"
   ]
  },
  {
   "cell_type": "code",
   "execution_count": 5,
   "metadata": {},
   "outputs": [
    {
     "data": {
      "text/plain": [
       "['건축구조', '시공', '기타', '인테리어', '마감하자', '타 마감하자', '마감재']"
      ]
     },
     "execution_count": 5,
     "metadata": {},
     "output_type": "execute_result"
    }
   ],
   "source": [
    "category_list = []\n",
    "\n",
    "for i in range(len(train)):\n",
    "    row = train.iloc[i]\n",
    "    category_list.append(row['category'])\n",
    "\n",
    "category_list = list(set(category_list))\n",
    "category_list"
   ]
  },
  {
   "cell_type": "code",
   "execution_count": 16,
   "metadata": {},
   "outputs": [],
   "source": [
    "train_dict = {}\n",
    "for i in range(len(train)):\n",
    "    row = train.iloc[i]\n",
    "    train_dict[row['id']] = {\n",
    "        'q1':row['질문_1'],\n",
    "        'q2':row['질문_2'],\n",
    "        \n",
    "        'a1':row['답변_1'],\n",
    "        'a2':row['답변_2'],\n",
    "        'a3':row['답변_3'],\n",
    "        'a4':row['답변_4'],\n",
    "        'a5':row['답변_5'],\n",
    "    }"
   ]
  },
  {
   "cell_type": "code",
   "execution_count": 18,
   "metadata": {},
   "outputs": [
    {
     "name": "stdout",
     "output_type": "stream",
     "text": [
      "******************************\n",
      "건축구조 조합 : 465\n",
      "******************************\n",
      "시공 조합 : 6105\n",
      "******************************\n",
      "기타 조합 : 351\n",
      "******************************\n",
      "인테리어 조합 : 7503\n",
      "******************************\n",
      "마감하자 조합 : 1770\n",
      "******************************\n",
      "타 마감하자 조합 : 190\n",
      "******************************\n",
      "마감재 조합 : 36856\n"
     ]
    }
   ],
   "source": [
    "import random\n",
    "import itertools\n",
    "\n",
    "# 같은 카테고리 안에서 질문 2개&그에 따른 답변 2개씩 조합\n",
    "setlist = []\n",
    "\n",
    "random.seed(0)\n",
    "qs = ['질문_1', '질문_2']\n",
    "rs = ['답변_1', '답변_2', '답변_3', '답변_4', '답변_5']\n",
    "\n",
    "# 1. 카테고리별로 질문 2개씩 조합\n",
    "for category in category_list:\n",
    "    category_idx = train[train['category'] == category]['id']\n",
    "    # 2. row 2개씩 조합\n",
    "    question_combinations = list(itertools.combinations(category_idx, 2))\n",
    "    \n",
    "    lens = len(question_combinations)\n",
    "\n",
    "    print('*'*30)\n",
    "    print(category, '조합 :', lens)\n",
    "\n",
    "    for i, j in question_combinations:\n",
    "        item1 =train_dict[i]\n",
    "        item2 =train_dict[j]\n",
    "\n",
    "        q1_1 = item1['q1']\n",
    "        q1_2 = item1['q2']\n",
    "        q2_1 = item2['q1']\n",
    "        q2_2 = item2['q2']\n",
    "\n",
    "        q1_list = [q1_1, q1_2]\n",
    "        q2_list = [q2_1, q2_1]\n",
    "\n",
    "        a1_1 = item1['a1']\n",
    "        a1_2 = item1['a2']\n",
    "        a1_3 = item1['a3']\n",
    "        a1_4 = item1['a4']\n",
    "        a1_5 = item1['a5']\n",
    "\n",
    "        a2_1 = item2['a1']\n",
    "        a2_2 = item2['a2']\n",
    "        a2_3 = item2['a3']\n",
    "        a2_4 = item2['a4']\n",
    "        a2_5 = item2['a5']\n",
    "\n",
    "        a1_list = [a1_1, a1_2, a1_3, a1_4, a1_5]\n",
    "        a2_list = [a2_1, a2_2, a2_3, a2_4, a2_5]\n",
    "\n",
    "        for q1, q2 in itertools.product(q1_list, q2_list):\n",
    "            for a1, a2 in itertools.product(a1_list, a2_list):\n",
    "                question = f'{q1} {q2}'\n",
    "                answer = f'{a1} {a2}'\n",
    "                setlist.append(pd.DataFrame({\n",
    "                    '질문':[question],\n",
    "                    '답변':[answer],\n",
    "                    'category':[category]\n",
    "                }))\n",
    "    "
   ]
  },
  {
   "cell_type": "code",
   "execution_count": 23,
   "metadata": {},
   "outputs": [
    {
     "name": "stderr",
     "output_type": "stream",
     "text": [
      "644it [00:00, 781.77it/s]\n"
     ]
    }
   ],
   "source": [
    "from tqdm import tqdm\n",
    "\n",
    "setlist_plain = []\n",
    "for _, row in tqdm(train.iterrows()):\n",
    "    for q_col in ['질문_1', '질문_2']:\n",
    "        for a_col in ['답변_1', '답변_2', '답변_3', '답변_4', '답변_5']:\n",
    "            setlist_plain.append(pd.DataFrame({'질문': [row[q_col]], '답변': [row[a_col]], 'category': [row['category']]}))\n",
    "\n",
    "data_list = setlist + setlist_plain\n",
    "data_small_list = setlist[:200000] + setlist_plain\n",
    "\n",
    "random.shuffle(data_list)\n",
    "random.shuffle(data_small_list)"
   ]
  },
  {
   "cell_type": "code",
   "execution_count": 25,
   "metadata": {},
   "outputs": [
    {
     "name": "stdout",
     "output_type": "stream",
     "text": [
      "5324000 6440\n",
      "206440\n"
     ]
    }
   ],
   "source": [
    "print(len(setlist), len(setlist_plain))\n",
    "print(len(data_small_list))"
   ]
  },
  {
   "cell_type": "code",
   "execution_count": 26,
   "metadata": {},
   "outputs": [],
   "source": [
    "#df = pd.concat(data_list).reset_index(drop=True)\n",
    "df_small = pd.concat(data_small_list).reset_index(drop=True)"
   ]
  },
  {
   "cell_type": "code",
   "execution_count": 27,
   "metadata": {},
   "outputs": [
    {
     "data": {
      "text/plain": [
       "category\n",
       "시공        154610\n",
       "건축구조       46810\n",
       "마감재         2720\n",
       "인테리어        1230\n",
       "마감하자         600\n",
       "기타           270\n",
       "타 마감하자       200\n",
       "Name: count, dtype: int64"
      ]
     },
     "execution_count": 27,
     "metadata": {},
     "output_type": "execute_result"
    }
   ],
   "source": [
    "df_small['category'].value_counts()"
   ]
  },
  {
   "cell_type": "code",
   "execution_count": 31,
   "metadata": {},
   "outputs": [],
   "source": [
    "df_small = df_small.drop('category', axis=1)"
   ]
  },
  {
   "cell_type": "code",
   "execution_count": 32,
   "metadata": {},
   "outputs": [
    {
     "name": "stdout",
     "output_type": "stream",
     "text": [
      "(185796, 2)\n"
     ]
    }
   ],
   "source": [
    "from sklearn.model_selection import train_test_split\n",
    "train_ratio = 0.9 \n",
    "train_df, dev_df = train_test_split(df_small, test_size=1-train_ratio, random_state=42)\n",
    "print(train_df.shape)"
   ]
  },
  {
   "cell_type": "code",
   "execution_count": 33,
   "metadata": {},
   "outputs": [],
   "source": [
    "train_df.to_csv('../data/train_v2.csv')\n",
    "dev_df.to_csv('../data/eval_v2.csv')"
   ]
  }
 ],
 "metadata": {
  "kernelspec": {
   "display_name": "llm",
   "language": "python",
   "name": "python3"
  },
  "language_info": {
   "codemirror_mode": {
    "name": "ipython",
    "version": 3
   },
   "file_extension": ".py",
   "mimetype": "text/x-python",
   "name": "python",
   "nbconvert_exporter": "python",
   "pygments_lexer": "ipython3",
   "version": "3.10.13"
  }
 },
 "nbformat": 4,
 "nbformat_minor": 2
}
